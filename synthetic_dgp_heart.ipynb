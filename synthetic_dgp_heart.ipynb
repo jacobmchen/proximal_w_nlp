{
 "cells": [
  {
   "cell_type": "code",
   "execution_count": null,
   "metadata": {},
   "outputs": [],
   "source": [
    "### Code creating a synthetic DGP using congestive heart failure and prediction data from zero-shot classifier and regex matching."
   ]
  },
  {
   "cell_type": "code",
   "execution_count": 2,
   "metadata": {},
   "outputs": [],
   "source": [
    "import pandas as pd\n",
    "import numpy as np\n",
    "from scipy.special import expit\n",
    "import statsmodels.api as sm\n",
    "import scipy.stats as stats\n",
    "from adjustment import *\n",
    "from fcit import fcit\n",
    "import pickle\n",
    "\n",
    "from proximal import *\n",
    "from regex_predictor import *\n",
    "from odds_ratio import *\n",
    "from backdoor import *\n",
    "from bag_of_words import *\n",
    "from cohens_kappa import *"
   ]
  },
  {
   "cell_type": "code",
   "execution_count": 3,
   "metadata": {},
   "outputs": [
    {
     "name": "stdout",
     "output_type": "stream",
     "text": [
      "0.7817391599606125\n",
      "0.16943397507724695\n",
      "{'tn': 19853, 'fp': 1820, 'fn': 4608, 'tp': 3170, 'sensitivity': 0.40755978400617127, 'specificity': 0.9160245466709731, 'precision': 0.6352705410821643, 'recall': 0.40755978400617127}\n",
      "0.3655922679927455\n",
      "\n",
      "0.28257105021900786\n",
      "0.9805099996604529\n",
      "{'tn': 559, 'fp': 21114, 'fn': 15, 'tp': 7763, 'sensitivity': 0.9980714836718951, 'specificity': 0.025792460665343978, 'precision': 0.2688298645981231, 'recall': 0.9980714836718951}\n",
      "0.012764417597259823\n"
     ]
    }
   ],
   "source": [
    "master_data = pd.read_csv('csv_files/master_data.csv')\n",
    "zero_shot_preds = pd.read_csv('csv_files/predictions-xxl-congestiveheartfailure-document.csv')\n",
    "# ** lung, leg, feet\n",
    "# family has most accurate and least variance predictions so far\n",
    "regex_preds = regular_expression_predict(master_data['notes_half2'], ['family'])\n",
    "# note: family seems to predict when heart failure does NOT occur, so I flip the predictions\n",
    "for i in range(len(regex_preds)):\n",
    "    if regex_preds[i] == 0:\n",
    "        regex_preds[i] = 1\n",
    "    elif regex_preds[i] == 1:\n",
    "        regex_preds[i] = 0\n",
    "\n",
    "print(np.mean(master_data['heart_fail'] == zero_shot_preds['prediction']))\n",
    "print(np.mean(zero_shot_preds['prediction']))\n",
    "print(create_confusion_matrix(master_data['heart_fail'], zero_shot_preds['prediction']))\n",
    "print(cohens_kappa(master_data['heart_fail'], zero_shot_preds['prediction']))\n",
    "print()\n",
    "\n",
    "print(np.mean(master_data['heart_fail'] == regex_preds))\n",
    "print(np.mean(regex_preds))\n",
    "print(create_confusion_matrix(master_data['heart_fail'], regex_preds))\n",
    "print(cohens_kappa(master_data['heart_fail'], regex_preds))"
   ]
  },
  {
   "cell_type": "code",
   "execution_count": 5,
   "metadata": {},
   "outputs": [],
   "source": [
    "semi_synthetic_data = pd.DataFrame({'U': master_data['heart_fail'], 'W': zero_shot_preds['prediction'], 'Z': regex_preds,\n",
    "                                    'age': master_data['age'], 'gender': master_data['gender'], 'notes_half2': master_data['notes_half2']})"
   ]
  },
  {
   "cell_type": "markdown",
   "metadata": {},
   "source": [
    "### Find 10 examples where the text data had the word family in it."
   ]
  },
  {
   "cell_type": "code",
   "execution_count": 8,
   "metadata": {},
   "outputs": [],
   "source": [
    "# find 10 examples\n",
    "examples = []\n",
    "\n",
    "# false positive is defined by element in W being 1 but element in U is 0\n",
    "# false negative is defined by element in W being 0 but element in U is 1\n",
    "for index, row in semi_synthetic_data.iterrows():\n",
    "    if row['Z'] == 0 and len(examples) < 10:\n",
    "        examples.append(row['notes_half2'])\n",
    "\n",
    "    if len(examples) == 10:\n",
    "        break"
   ]
  },
  {
   "cell_type": "code",
   "execution_count": 9,
   "metadata": {},
   "outputs": [
    {
     "name": "stdout",
     "output_type": "stream",
     "text": [
      "pleted Pulses all present. No signs of hematoma at angio site. RESP: on room air with sat 94-100%. Lungs clear to ascutation RENAL: maintenance fluids @ 70. Urine output 40-50cc/hr GI: No further vomiting or nausea.  HO attempted unsuccessfully to place ng tube early in shift but great resistance so attempt aborted ENDO: BS within acceptable limits ID: afebrile, on clindamycin SKIN: Large forehead lac sutured.  Cleaned and bacitracin applied. FAMILY:  wife spent the night at the bedside. A: s/p head trauma with fx skull, intact neuro status P: clear cervical neck, back ASAP ?? to OR today for repair of sinus fractures ?? change to pca pump for improved pain control. \n",
      "\n",
      "ESTING DONE, BRAIN DEATH CRITERIA MET. FAMILY MEETING WITH DR. [**Last Name (STitle) 396**]. FAMILY WANTED TO EXTUBATE PT AND ALLOW TO PASS AWAY. PT EXTUBATED AT 1157 BY DR. [**Last Name (STitle) 396**], PRONOUNCED AT 1229. FAMILY PRESENT. POST-MORTEM CARE GIVEN. \n",
      "\n",
      "f 12mg IV haldol from both EW and TSICU). Baseline Qtc from 12-lead taken in EW was 0.47, Dr. [**Last Name (STitle) 94**] notified and further administration of haldol withheld.  HEME: H/H stable. Sq heparin started. Pboots on.  GI: Abd soft and midly distended. +Bowel sounds. No BM. Denies N/V. NPO.  GU: Pt has suprapubic cath in place for h/o atonic bladder. Adequate u/o for shift. Lytes WNL.  ID: Afebrile. Pt started on levaquin for +UTI in EW.  ENDO: Serum glucose WNL.  SKIN: Abrasions to hand. Lact to left thumb sutured. Back/buttocks grossly intact.  SOCIAL: No contacts from family this shift.  ASMT: Pt s/p ?fall with dens fx. Baseline dementia, neuro exam unchanged throughout shift.  PLAN: Cont to monitor VS, neuro checks, bed alarm and wrist restraints for safety, f/u with imaging results. ?Trans to stepdown/floor if no surgical intervention required. \n",
      "\n",
      "ftly distended, NT. BS hypoactive. No BM this shift.  GU: Foley draining adequate amts CYU.  ID: Tmax 98.3. On cefazolin.  Endo: FSBS per SS, coverage x1.  Skin: Incision under CT dsg, unable to assess. No drainage. Dsg intact.  Musculoskeletal: MAE, normal strength. Clamshell brace when OOB after posterior fusion surgery.  Social: Family visited. Spouse very [**Name2 (NI) 283**] and at bedside most of day.  Plan: Monitor effectiveness of pain colntrol/PCA. Remain NPO for posterior fusion surgery tomorrow. Plan for surgery [**10-5**]. \n",
      "\n",
      "t. Plan is to do EEG this AM, likely will withdraw support afterwards, as family states pt would not want to remain vent-dependent. Resp: Intubated, on A/C30, 60%, TV 550,5peep. See CareVue flowsheet for most recent ABG CV: Hypotensive to 60's, fluid resuscitation ongoing NS @ 1000ml/hr On Levophed, Vasopressin, and Dopamine gtts GI: OG tube inserted on arrival, gastric lavage by Dr [**Last Name (STitle) 1459**], has drained total 2L BRB. Hct 22 on arrival, down to 16 this AM. Have not been able to transfuse PRBC as pt has multiple antibodies and is a very difficult crossmatch per BB staff Has received 2u PRBC, 1mg Vit K IV, is on Sandostatin gtt at 50mcg/hr. Passed med amt soft, [**Male First Name (un) 963**]-colored stool, OB neg. GU: Initially anuric, urine output now > 60ml/hr after 9L fluid,on Dopamine gtt. ID: WBC 38 Received initial doses Levoflox, Ceftriaxone IV Afebrile BC sent from TLC, Aline, urine C&S sent. Dispo: For EEG this AM per Neuro rec's, most likely will withdraw treatment afterwards Emotional support for pt/family.  \n",
      "\n",
      "L arm. IVF switched to R side.  Neuro/Social: Unable to asses r/t language barrier. Agitated and restless at times. Removes blankets, takes of hospital gown, Attempts to get out of bed without assistance. Gave Morphine 2mg c mild calming effect. Wife and son into visit, updated by [**Name (NI) 1191**].  ID: WBC-14.7. @ noon pt temp 93.4, applied Bair hugger c some resistance, for an hour. Temp increased to 96.4.  A: 85 yo male c failure to thrive, hematemesis r/t gall bladder CA c ?mets to lymph nodes. Refusing chemotherapy. Cont present management, IV abx and IVF. Called out to floor, plans to have Family meeting c team, GI, Oncology, palliative care present. Emotionally support pt and family. \n",
      "\n",
      "ponsive. lg sah. non-surgical candidate. discussion w son-dnr/[**Name2 (NI) **] w probable cmo after family in. social work consult. donor bank notified-not appro candidate. admitted to ccu-micu border. \n",
      "\n",
      " R pupil briskly reactive.  L eye too edematous for me to assess pupil, per notes, L pupil reactive.  Moves all limbs puposefully and to command.  Ox3, alert, communicating fine in English though primary language is Spanish.  Cervical collar is on, but C-spine radiologically clear.    CV - NSR to sinus brady,no ectopy.  BP 100-130sys.   Resp - on room air, sats 96-100%.  reports smokes sometimes.   GU - clear yellow urine via foley. adequate amt. hematuria reported earlier.   GI - NPO, abd soft, no BM.   Heme - Hct 36.8 at 1400, and 34.5 at 1700.  INR 1.0   ID - on kefzol x 3 doses   Skin - back & buttocks intact.  Multiple superficail abrasions.  Head & face lacs. A: Hct stable with hydration, neuro status intact, P: Hct checks q 4 hrs.  Pain meds prn,  clear C-spine clinically.  Contact family or friends if pt wishes. \n",
      "\n",
      "AL:  FOLEY PATENT AND DRAINING CLEAR YELLOW URINE 70-100CC/HR  K+ 3.8 GI:  ABDOMEN SOFT DISTENDED  NO NOTABLE BS  NO FLATUS  DENIES NAUSEA REMAINS NPO  ON PROTONIX  IVF KVO ENDOCRINE:  FS 106 HEME:  LAST HCT 31.7  LAST INR 1.4  NO SX OF BLEEDING L SIDE AND LE WITH ECCHYOMSIS ID:  TMAX 99.7 SKIN:  SEE CAREVUE FOR SKIN CARE ASSESSMENT PSYCHOSOCIAL:  HUSBAND AND SEVERAL OTHER FAMILY MEMBERS IN FOR VISITS UPDATED ON CLINICAL SITUATION AND QUESTIONS ANSWERED A:  HEMODYNAMICS(VS AND BLOOD CTS) STABLE  HIGH O2 REQUIREMENT P:  CONTINUE TO MONITOR ABOVE PARAMETERS \n",
      "\n",
      "ber, 60+cc/hr. Moderate rubra vaginal flow  Skeletal: minor abrasions over left face C/D. Knee immobilizer right knee; small amount s/s drainage left lateral thigh dressing.  ID: Tmax 101; cont on cefazolin.  WBC 13.  Heme: serial Hcts stable 23-24.  Psychosocial: family visited last eve, all supportive and cooperative. Father speaks/understands English well, and assisted to explain POC to pt.  P: ?decrease basal morphine rate if pt cont lethargic; follow serial hcts. Advance DAT. Start PT/[**Hospital 2161**] rehab screening. ?transfer to floor.      \n",
      "\n"
     ]
    }
   ],
   "source": [
    "for sentence in examples:\n",
    "    print(sentence)\n",
    "    print()"
   ]
  },
  {
   "cell_type": "code",
   "execution_count": 19,
   "metadata": {},
   "outputs": [
    {
     "name": "stdout",
     "output_type": "stream",
     "text": [
      "76.41380598281891\n",
      "56.78193469093504\n",
      "0.5110183015856847\n"
     ]
    }
   ],
   "source": [
    "# generate A and Z as a function of U\n",
    "np.random.seed(1)\n",
    "\n",
    "size = len(semi_synthetic_data)\n",
    "\n",
    "print(np.mean(semi_synthetic_data['age']))\n",
    "print(np.std(semi_synthetic_data['age']))\n",
    "\n",
    "C = np.random.normal(76.4, 56.8, size)\n",
    "\n",
    "A = np.random.binomial(1, expit(0.8*semi_synthetic_data['U'] + 0.8*semi_synthetic_data['gender'] + 0.8*(semi_synthetic_data['age'] - 67)), size)\n",
    "\n",
    "print(np.mean(A))\n",
    "\n",
    "Y = np.random.normal(0, 1, size) + 1.3*A + 1.4*semi_synthetic_data['U'] + 0.8*semi_synthetic_data['gender'] + 0.5*semi_synthetic_data['age']\n",
    "\n",
    "semi_synthetic_data['A'] = A\n",
    "semi_synthetic_data['Y'] = Y\n",
    "semi_synthetic_data['C'] = C"
   ]
  },
  {
   "cell_type": "code",
   "execution_count": 20,
   "metadata": {},
   "outputs": [
    {
     "name": "stdout",
     "output_type": "stream",
     "text": [
      "7.504150688720684\n",
      "13.701862901506212\n",
      "\n",
      "0.18647923669824454\n",
      "0.0050873139746626305\n",
      "\n",
      "2.836124844592412\n",
      "3.09471127245867\n",
      "\n",
      "1.5552514148538126\n",
      "1.5131245220417733\n"
     ]
    }
   ],
   "source": [
    "print(odds_ratio('U', 'W', [], semi_synthetic_data))\n",
    "print(odds_ratio('U', 'Z', [], semi_synthetic_data))\n",
    "\n",
    "print()\n",
    "print(np.mean(semi_synthetic_data['W'] == semi_synthetic_data['Z']))\n",
    "print(cohens_kappa(semi_synthetic_data['W'], semi_synthetic_data['Z']))\n",
    "print()\n",
    "\n",
    "print(odds_ratio('W', 'Z', ['age', 'gender'], semi_synthetic_data))\n",
    "print(odds_ratio('W', 'Z', [], semi_synthetic_data))\n",
    "print()\n",
    "\n",
    "print(odds_ratio('W', 'Z', ['U'], semi_synthetic_data))\n",
    "print(odds_ratio('W', 'Z', ['U', 'age', 'gender'], semi_synthetic_data))"
   ]
  },
  {
   "cell_type": "code",
   "execution_count": 21,
   "metadata": {},
   "outputs": [
    {
     "name": "stdout",
     "output_type": "stream",
     "text": [
      "1.2962545868000959\n",
      "(1.27076719689324, 1.3177239594871473, [1.303260734219407, 1.309604069540768, 1.2780711438352768, 1.2979583473266558, 1.2882510409711827, 1.271225255790334, 1.2708251516803912, 1.306180963542019, 1.2845434812739924, 1.2708154051172613, 1.291173478671439, 1.2793151604946615, 1.2910306460994434, 1.2955214749227153, 1.3302933762108182, 1.2817550426949964, 1.302633819338567, 1.2968664259579796, 1.3175650222166055, 1.2711806695446484, 1.3035664501730153, 1.278564976721448, 1.3056258275075692, 1.311380359967444, 1.2803190025909004, 1.3079182325531988, 1.3022752911452287, 1.2942208834049467, 1.3107954410106402, 1.285699171552558, 1.3075447860222411, 1.3024209116453846, 1.2878409692154875, 1.2828061437816203, 1.279372065541132, 1.3009433830609254, 1.290113372104166, 1.2938417058032243, 1.3059122174119508, 1.2987317290245244, 1.2891639529494299, 1.2796577958454378, 1.2986979198233826, 1.2984777707064126, 1.2846291791685474, 1.3175799179786623, 1.2750347183065571, 1.2962963390496753, 1.2957562257313597, 1.2771288913022971, 1.2950554019661595, 1.3111360002372123, 1.3023761061651342, 1.2934884734436451, 1.3094123543510108, 1.2918778052856084, 1.2941523269798125, 1.3183485080228792, 1.2750583463614191, 1.31457874996444, 1.2947698916059949, 1.2669469377295002, 1.2978296007034942, 1.2996376565464658, 1.30546056289176, 1.2992457516486624, 1.300035419624109, 1.2755775875696997, 1.2812106341406206, 1.286090104437804, 1.2925154934502103, 1.2939084713935856, 1.300602814135388, 1.2730570926447413, 1.294587644706695, 1.2919298779078119, 1.2803329660051403, 1.2976270021176717, 1.2921684931085409, 1.2937183570170774, 1.2799471489123135, 1.2996037966670997, 1.2682012525255857, 1.3016308938563057, 1.2936902505546684, 1.2938630075208266, 1.3067327411980614, 1.2867639310176244, 1.304214018410228, 1.2986798098170738, 1.2988425002645556, 1.27498518975991, 1.2972449923294747, 1.3127631222592981, 1.304748959604268, 1.2928669064782738, 1.3009367108094807, 1.2979935377292477, 1.2788344405555918, 1.2996120181175002, 1.296588286250902, 1.3232805180049496, 1.297749920206961, 1.2960573042746546, 1.2952784598010467, 1.3101329760141525, 1.3168521950031646, 1.3100587473634135, 1.2688870761564033, 1.310215606533795, 1.3196515210964108, 1.311281004997447, 1.2939404295154944, 1.3105016573463573, 1.2993554998787786, 1.2903211363245646, 1.3065581489566327, 1.2762273719661437, 1.2925465918898311, 1.3063245819903386, 1.2904443588290277, 1.3332177510813992, 1.2869722674012607, 1.2827930684211353, 1.3045347705131505, 1.2743529907669853, 1.296090984411876, 1.2981792236757244, 1.3031970191253066, 1.3162032566764026, 1.2995451609682078, 1.2875899964132884, 1.305233680526932, 1.306143188559446, 1.2915170435588834, 1.2904599245678767, 1.311690568768519, 1.298218818585525, 1.2812795151789231, 1.2836196067448356, 1.2648358334162566, 1.295701250071609, 1.3047696520324266, 1.3132319595317483, 1.2991011480985932, 1.2914884270624327, 1.2906232858226332, 1.3051363648159793, 1.2863430273693552, 1.3040483343784572, 1.3177079454221285, 1.2919102618198508, 1.2967695340768515, 1.3032495043118928, 1.2892550271165248, 1.2616754070764316, 1.3074717459140075, 1.2902317589344818, 1.3031537101229702, 1.303860610492947, 1.3006346420035086, 1.294444380020181, 1.3013138511314466, 1.2880628759988326, 1.2949014146037783, 1.2873608869088287, 1.3168984561404429, 1.3059173690071972, 1.2890718684394997, 1.2856105280735903, 1.3036472046124956, 1.304462185850518, 1.2888784577252252, 1.2985451671386272, 1.2747833705622682, 1.288677034983344, 1.2816523536648106, 1.3071976688437417, 1.2903782834965014, 1.2932169371160214, 1.2965252151563504, 1.2958006142060938, 1.29298210923114, 1.308618295669426, 1.2942470010128488, 1.3129422132364965, 1.2975596731561652, 1.289527331287232, 1.3095163557405627, 1.306763623603274, 1.2962240780984828, 1.296632369079191, 1.2940728638695447, 1.2769223664578107, 1.2763694410680273, 1.2752832759355002, 1.2945535965319053, 1.2851301117583205, 1.2788726863692546, 1.3038369239890315])\n"
     ]
    }
   ],
   "source": [
    "print(backdoor_adjustment('Y', 'A', ['U', 'gender', 'age'], semi_synthetic_data))\n",
    "print(compute_confidence_intervals_backdoor('Y', 'A', ['U', 'gender', 'age'], semi_synthetic_data, 'backdoor'))"
   ]
  },
  {
   "cell_type": "markdown",
   "metadata": {},
   "source": [
    "### Use proximal with two proxies that are just random chance."
   ]
  },
  {
   "cell_type": "code",
   "execution_count": 10,
   "metadata": {},
   "outputs": [],
   "source": [
    "np.random.seed(2)\n",
    "\n",
    "random_classifier1 = np.random.binomial(1, 0.5, len(semi_synthetic_data))\n",
    "\n",
    "random_classifier2 = np.random.binomial(1, 0.5, len(semi_synthetic_data))\n",
    "\n",
    "semi_synthetic_data['R1'] = random_classifier1\n",
    "semi_synthetic_data['R2'] = random_classifier2\n",
    "\n",
    "ace = proximal_find_ace('A', 'Y', 'R1', 'R2', ['age', 'gender'], semi_synthetic_data)\n",
    "conf_int = compute_confidence_intervals('A', 'Y', 'R1', 'R2', ['age', 'gender'], semi_synthetic_data)\n",
    "\n",
    "with open('pickle_files/heart_baseline.pkl', 'wb') as file:\n",
    "    pickle.dump((ace, conf_int[0], conf_int[1]), file)"
   ]
  },
  {
   "cell_type": "markdown",
   "metadata": {},
   "source": [
    "### Use backdoor with Flan-T5 as the predictions."
   ]
  },
  {
   "cell_type": "code",
   "execution_count": 8,
   "metadata": {},
   "outputs": [],
   "source": [
    "ace = backdoor_adjustment('Y', 'A', ['W', 'age', 'gender'], semi_synthetic_data)\n",
    "conf_int = compute_confidence_intervals_backdoor('Y', 'A', ['W', 'age', 'gender'], semi_synthetic_data, 'backdoor')\n",
    "\n",
    "with open('pickle_files/heart_backdoor.pkl', 'wb') as file:\n",
    "    pickle.dump((ace, conf_int[0], conf_int[1]), file)"
   ]
  },
  {
   "cell_type": "markdown",
   "metadata": {},
   "source": [
    "### Use proximal with Flan-T5 and Lexicon predictions."
   ]
  },
  {
   "cell_type": "code",
   "execution_count": 22,
   "metadata": {},
   "outputs": [
    {
     "name": "stdout",
     "output_type": "stream",
     "text": [
      "1.267184362667072\n",
      "(1.164310122504327, 1.3919867494676235)\n"
     ]
    }
   ],
   "source": [
    "ace = proximal_find_ace('A', 'Y', 'W', 'Z', ['age', 'gender'], semi_synthetic_data)\n",
    "conf_int = compute_confidence_intervals(\"A\", \"Y\", \"W\", \"Z\", ['age', 'gender'], semi_synthetic_data)\n",
    "print(ace)\n",
    "print(conf_int)"
   ]
  },
  {
   "cell_type": "code",
   "execution_count": null,
   "metadata": {},
   "outputs": [],
   "source": [
    "with open('pickle_files/heart_proximal.pkl', 'wb') as file:\n",
    "    pickle.dump((ace, conf_int[0], conf_int[1]), file)"
   ]
  }
 ],
 "metadata": {
  "kernelspec": {
   "display_name": "base",
   "language": "python",
   "name": "python3"
  },
  "language_info": {
   "codemirror_mode": {
    "name": "ipython",
    "version": 3
   },
   "file_extension": ".py",
   "mimetype": "text/x-python",
   "name": "python",
   "nbconvert_exporter": "python",
   "pygments_lexer": "ipython3",
   "version": "3.10.9"
  },
  "orig_nbformat": 4
 },
 "nbformat": 4,
 "nbformat_minor": 2
}
