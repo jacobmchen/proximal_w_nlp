{
 "cells": [
  {
   "cell_type": "markdown",
   "metadata": {},
   "source": [
    "### Code creating a synthetic DGP using congestive heart failure and prediction data from zero-shot classifier and regex matching."
   ]
  },
  {
   "cell_type": "code",
   "execution_count": 1,
   "metadata": {},
   "outputs": [],
   "source": [
    "import pandas as pd\n",
    "import numpy as np\n",
    "from scipy.special import expit\n",
    "import statsmodels.api as sm\n",
    "import scipy.stats as stats\n",
    "from adjustment import *\n",
    "from fcit import fcit\n",
    "import pickle\n",
    "\n",
    "from proximal import *\n",
    "from regex_predictor import *\n",
    "from odds_ratio import *\n",
    "from backdoor import *\n",
    "from bag_of_words import *\n",
    "from cohens_kappa import *"
   ]
  },
  {
   "cell_type": "code",
   "execution_count": 2,
   "metadata": {},
   "outputs": [
    {
     "name": "stdout",
     "output_type": "stream",
     "text": [
      "0.7817391599606125\n",
      "0.16943397507724695\n",
      "{'tn': 19853, 'fp': 1820, 'fn': 4608, 'tp': 3170, 'sensitivity': 0.40755978400617127, 'specificity': 0.9160245466709731, 'precision': 0.6352705410821643, 'recall': 0.40755978400617127}\n",
      "0.3655922679927455\n",
      "\n",
      "0.7174289497809921\n",
      "0.019490000339547044\n",
      "{'tn': 21114, 'fp': 559, 'fn': 7763, 'tp': 15, 'sensitivity': 0.0019285163281049112, 'specificity': 0.974207539334656, 'precision': 0.02613240418118467, 'recall': 0.0019285163281049112}\n",
      "-0.03394120679088907\n"
     ]
    }
   ],
   "source": [
    "master_data = pd.read_csv('csv_files/master_data.csv')\n",
    "zero_shot_preds = pd.read_csv('csv_files/predictions-xxl-congestiveheartfailure-document.csv')\n",
    "# ** lung, leg, feet\n",
    "# family has most accurate and least variance predictions so far\n",
    "regex_preds = regular_expression_predict(master_data['notes_half2'], ['family'])\n",
    "\n",
    "print(np.mean(master_data['heart_fail'] == zero_shot_preds['prediction']))\n",
    "print(np.mean(zero_shot_preds['prediction']))\n",
    "print(create_confusion_matrix(master_data['heart_fail'], zero_shot_preds['prediction']))\n",
    "print(cohens_kappa(master_data['heart_fail'], zero_shot_preds['prediction']))\n",
    "print()\n",
    "\n",
    "print(np.mean(master_data['heart_fail'] == regex_preds))\n",
    "print(np.mean(regex_preds))\n",
    "print(create_confusion_matrix(master_data['heart_fail'], regex_preds))\n",
    "print(cohens_kappa(master_data['heart_fail'], regex_preds))"
   ]
  },
  {
   "cell_type": "code",
   "execution_count": 3,
   "metadata": {},
   "outputs": [],
   "source": [
    "semi_synthetic_data = pd.DataFrame({'U': master_data['heart_fail'], 'W': zero_shot_preds['prediction'], 'Z': regex_preds,\n",
    "                                    'age': master_data['age'], 'gender': master_data['gender']})"
   ]
  },
  {
   "cell_type": "code",
   "execution_count": 4,
   "metadata": {},
   "outputs": [
    {
     "name": "stdout",
     "output_type": "stream",
     "text": [
      "76.41380598281891\n",
      "56.78193469093504\n",
      "0.5110183015856847\n"
     ]
    }
   ],
   "source": [
    "# generate A and Z as a function of U\n",
    "np.random.seed(1)\n",
    "\n",
    "size = len(semi_synthetic_data)\n",
    "\n",
    "print(np.mean(semi_synthetic_data['age']))\n",
    "print(np.std(semi_synthetic_data['age']))\n",
    "\n",
    "C = np.random.normal(76.4, 56.8, size)\n",
    "\n",
    "A = np.random.binomial(1, expit(0.8*semi_synthetic_data['U'] + 0.8*semi_synthetic_data['gender'] + 0.8*(semi_synthetic_data['age'] - 67)), size)\n",
    "\n",
    "print(np.mean(A))\n",
    "\n",
    "Y = np.random.normal(0, 1, size) + 1.3*A + 1.4*semi_synthetic_data['U'] + 0.8*semi_synthetic_data['gender'] + 0.5*semi_synthetic_data['age']\n",
    "\n",
    "semi_synthetic_data['A'] = A\n",
    "semi_synthetic_data['Y'] = Y\n",
    "semi_synthetic_data['C'] = C"
   ]
  },
  {
   "cell_type": "code",
   "execution_count": 14,
   "metadata": {},
   "outputs": [
    {
     "name": "stdout",
     "output_type": "stream",
     "text": [
      "7.504150688720684\n",
      "0.07298277666244009\n",
      "\n",
      "0.8135207633017555\n",
      "-0.022815985881190593\n",
      "\n",
      "0.6429828582370919\n",
      "0.6608841410161134\n"
     ]
    }
   ],
   "source": [
    "print(odds_ratio('U', 'W', [], semi_synthetic_data))\n",
    "print(odds_ratio('U', 'Z', [], semi_synthetic_data))\n",
    "\n",
    "print()\n",
    "print(np.mean(semi_synthetic_data['W'] == semi_synthetic_data['Z']))\n",
    "print(cohens_kappa(semi_synthetic_data['W'], semi_synthetic_data['Z']))\n",
    "print()\n",
    "\n",
    "print(odds_ratio('W', 'Z', ['U'], semi_synthetic_data))\n",
    "print(odds_ratio('W', 'Z', ['U', 'age', 'gender'], semi_synthetic_data))"
   ]
  },
  {
   "cell_type": "code",
   "execution_count": 43,
   "metadata": {},
   "outputs": [
    {
     "name": "stdout",
     "output_type": "stream",
     "text": [
      "1.2918325843955856\n",
      "(1.2655233635217236, 1.3164800118871192, [1.296887582784258, 1.2948778462856652, 1.3018044775218272, 1.291597786135675, 1.3002897957689328, 1.280222881487333, 1.289776851792503, 1.2704407579928798, 1.320639459125175, 1.2733072626532973, 1.279903331631857, 1.2986387724331792, 1.2827534387564299, 1.2697685158736292, 1.2953879848231367, 1.2838603051082629, 1.2998189350467442, 1.2794707036873518, 1.3122577626291516, 1.3146542219300485, 1.2817106815110506, 1.2727406837399116, 1.2927837505643254, 1.3037737650107601, 1.3206825837711733, 1.2909268706564632, 1.3057128771215574, 1.2986136707801634, 1.2660589128754154, 1.289819480935563, 1.2934052035203223, 1.2940403394370392, 1.2961135616307686, 1.286342584170228, 1.3118044387010954, 1.2985905999843936, 1.292427996328648, 1.2800369477252005, 1.2953727745612653, 1.2956586747705217, 1.294715095937022, 1.2832911712335147, 1.286472057481319, 1.3022493700280364, 1.2655398281949317, 1.289451524426866, 1.2934272208966604, 1.313060011365586, 1.3164409818521676, 1.2902496041471352, 1.275242319974737, 1.2859593761929347, 1.2879982310284603, 1.3027239363033871, 1.2956295515413103, 1.2890244669622035, 1.2936136074558604, 1.3015730179273817, 1.2818019387571624, 1.2915494924936581, 1.30977135793119, 1.3067149539707543, 1.296073775502066, 1.275169350129346, 1.2939564868641682, 1.277704697059015, 1.3058679817801249, 1.2842513033875136, 1.2993141613894323, 1.285672262458803, 1.2886468283650174, 1.3225883986588727, 1.3134862125760662, 1.2888257196566926, 1.305913079964924, 1.303990432698626, 1.2946755819360547, 1.2968763737157403, 1.295346539309655, 1.2994047407528484, 1.3119934325417404, 1.288612402720581, 1.280661119656422, 1.297796594829478, 1.2783667042513613, 1.2856528713762785, 1.2961475834048457, 1.2866032136893182, 1.298087171651055, 1.27068316426098, 1.2901926189491135, 1.3074916262822427, 1.2768894145267353, 1.273450287081431, 1.2869795775004178, 1.3097481620988205, 1.2823156982536048, 1.2889600309578597, 1.2930177472319002, 1.2877291902729837, 1.2983501433613611, 1.2881444012677008, 1.2902567981303221, 1.291873499322577, 1.315475136529379, 1.2829093472484345, 1.3022705201594675, 1.3028589210741472, 1.303932470977884, 1.28714568158572, 1.3152944632930144, 1.2691953080998601, 1.3071766951519237, 1.3082364437854963, 1.277112136145135, 1.2918838601049742, 1.307634165598131, 1.280272991989591, 1.3004065692664568, 1.274725216776666, 1.2939523243592816, 1.2803516036490663, 1.2775522076830867, 1.3047133220464175, 1.2736481695061812, 1.2801838669900292, 1.2809336833510017, 1.3074918595345295, 1.2799086380207783, 1.2967253771731464, 1.2767321824268336, 1.284193264048298, 1.301074729470315, 1.2879494495781358, 1.2950792920199916, 1.291015894080786, 1.2983036063784041, 1.279955310606674, 1.2912729444339206, 1.3077284328171572, 1.2858386080101596, 1.3014420928011106, 1.2936110103575729, 1.2861192909735948, 1.2523921168400278, 1.284960691748239, 1.287022270137932, 1.3141291606238283, 1.2610757589981532, 1.2888822615536597, 1.2749197471732785, 1.2836515644678599, 1.3112313350700404, 1.285772723778699, 1.2872984642377787, 1.2796263311136968, 1.301929387249615, 1.3100599199776468, 1.2962596069363954, 1.308952691925029, 1.245342223752857, 1.3033863101108096, 1.2874912491332964, 1.2818892955499734, 1.3048932620716869, 1.3075259756395141, 1.2765568981160342, 1.3063771561293507, 1.2974437462189954, 1.2648812412666075, 1.3073293704747826, 1.3038208190869298, 1.3210854220483483, 1.2750411857812338, 1.2797184225425653, 1.318002183250229, 1.304828394232679, 1.2880124183985515, 1.3043630428123123, 1.2742109899149554, 1.283917834361688, 1.3066096996726628, 1.3014368920915445, 1.2992938631912097, 1.3114563114043278, 1.2976300738970892, 1.3066040843914095, 1.295048791612217, 1.276624092889648, 1.2766532841737828, 1.2875076143235233, 1.2588472725612405, 1.2818385106230252, 1.3112835942145153, 1.308750087935742, 1.3053554923316426, 1.2712574166932669, 1.2890296399217007, 1.2721791866349292, 1.2960219230466734])\n"
     ]
    }
   ],
   "source": [
    "print(backdoor_adjustment('Y', 'A', ['U', 'gender', 'age'], semi_synthetic_data))\n",
    "print(compute_confidence_intervals_backdoor('Y', 'A', ['U', 'gender', 'age'], semi_synthetic_data, 'backdoor'))"
   ]
  },
  {
   "cell_type": "markdown",
   "metadata": {},
   "source": [
    "### Use proximal with two proxies that are just random chance."
   ]
  },
  {
   "cell_type": "code",
   "execution_count": 10,
   "metadata": {},
   "outputs": [],
   "source": [
    "np.random.seed(2)\n",
    "\n",
    "random_classifier1 = np.random.binomial(1, 0.5, len(semi_synthetic_data))\n",
    "\n",
    "random_classifier2 = np.random.binomial(1, 0.5, len(semi_synthetic_data))\n",
    "\n",
    "semi_synthetic_data['R1'] = random_classifier1\n",
    "semi_synthetic_data['R2'] = random_classifier2\n",
    "\n",
    "ace = proximal_find_ace('A', 'Y', 'R1', 'R2', ['age', 'gender'], semi_synthetic_data)\n",
    "conf_int = compute_confidence_intervals('A', 'Y', 'R1', 'R2', ['age', 'gender'], semi_synthetic_data)\n",
    "\n",
    "with open('pickle_files/heart_baseline.pkl', 'wb') as file:\n",
    "    pickle.dump((ace, conf_int[0], conf_int[1]), file)"
   ]
  },
  {
   "cell_type": "markdown",
   "metadata": {},
   "source": [
    "### Use backdoor with Flan-T5 as the predictions."
   ]
  },
  {
   "cell_type": "code",
   "execution_count": 8,
   "metadata": {},
   "outputs": [],
   "source": [
    "ace = backdoor_adjustment('Y', 'A', ['W', 'age', 'gender'], semi_synthetic_data)\n",
    "conf_int = compute_confidence_intervals_backdoor('Y', 'A', ['W', 'age', 'gender'], semi_synthetic_data, 'backdoor')\n",
    "\n",
    "with open('pickle_files/heart_backdoor.pkl', 'wb') as file:\n",
    "    pickle.dump((ace, conf_int[0], conf_int[1]), file)"
   ]
  },
  {
   "cell_type": "markdown",
   "metadata": {},
   "source": [
    "### Use proximal with Flan-T5 and Lexicon predictions."
   ]
  },
  {
   "cell_type": "code",
   "execution_count": 9,
   "metadata": {},
   "outputs": [],
   "source": [
    "ace = proximal_find_ace('A', 'Y', 'W', 'Z', ['age', 'gender'], semi_synthetic_data)\n",
    "conf_int = compute_confidence_intervals(\"A\", \"Y\", \"W\", \"Z\", ['age', 'gender'], semi_synthetic_data)\n",
    "\n",
    "with open('pickle_files/heart_proximal.pkl', 'wb') as file:\n",
    "    pickle.dump((ace, conf_int[0], conf_int[1]), file)"
   ]
  }
 ],
 "metadata": {
  "kernelspec": {
   "display_name": "base",
   "language": "python",
   "name": "python3"
  },
  "language_info": {
   "codemirror_mode": {
    "name": "ipython",
    "version": 3
   },
   "file_extension": ".py",
   "mimetype": "text/x-python",
   "name": "python",
   "nbconvert_exporter": "python",
   "pygments_lexer": "ipython3",
   "version": "3.10.9"
  },
  "orig_nbformat": 4
 },
 "nbformat": 4,
 "nbformat_minor": 2
}
