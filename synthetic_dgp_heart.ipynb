{
 "cells": [
  {
   "cell_type": "markdown",
   "metadata": {},
   "source": [
    "### Code creating a synthetic DGP using congestive heart failure and prediction data from zero-shot classifier and regex matching."
   ]
  },
  {
   "cell_type": "code",
   "execution_count": 1,
   "metadata": {},
   "outputs": [],
   "source": [
    "import pandas as pd\n",
    "import numpy as np\n",
    "from scipy.special import expit\n",
    "import statsmodels.api as sm\n",
    "import scipy.stats as stats\n",
    "from adjustment import *\n",
    "from fcit import fcit\n",
    "\n",
    "from proximal import *\n",
    "from regex_predictor import *\n",
    "from odds_ratio import *\n",
    "from backdoor import *\n",
    "from bag_of_words import *"
   ]
  },
  {
   "cell_type": "code",
   "execution_count": 124,
   "metadata": {},
   "outputs": [
    {
     "name": "stdout",
     "output_type": "stream",
     "text": [
      "0.5999117177684968\n",
      "0.5498285287426573\n",
      "{'tn': 11574, 'fp': 10099, 'fn': 1684, 'tp': 6094, 'sensitivity': 0.783491900231422, 'specificity': 0.5340285147418447, 'precision': 0.37633545359105786, 'recall': 0.783491900231422}\n",
      "\n",
      "0.7174289497809921\n",
      "0.019490000339547044\n",
      "{'tn': 21114, 'fp': 559, 'fn': 7763, 'tp': 15, 'sensitivity': 0.0019285163281049112, 'specificity': 0.974207539334656, 'precision': 0.02613240418118467, 'recall': 0.0019285163281049112}\n"
     ]
    }
   ],
   "source": [
    "master_data = pd.read_csv('csv_files/master_data.csv')\n",
    "zero_shot_preds = pd.read_csv('csv_files/predictions-xxl-congestiveheartfailure-sentence.csv')\n",
    "# ** lung, leg, feet\n",
    "# family has most accurate and least variance predictions so far\n",
    "regex_preds = regular_expression_predict(master_data['notes_half2'], ['family'])\n",
    "\n",
    "print(np.mean(master_data['heart_fail'] == zero_shot_preds['prediction']))\n",
    "print(np.mean(zero_shot_preds['prediction']))\n",
    "print(create_confusion_matrix(master_data['heart_fail'], zero_shot_preds['prediction']))\n",
    "print()\n",
    "\n",
    "print(np.mean(master_data['heart_fail'] == regex_preds))\n",
    "print(np.mean(regex_preds))\n",
    "print(create_confusion_matrix(master_data['heart_fail'], regex_preds))"
   ]
  },
  {
   "cell_type": "code",
   "execution_count": 125,
   "metadata": {},
   "outputs": [],
   "source": [
    "semi_synthetic_data = pd.DataFrame({'U': master_data['heart_fail'], 'W': zero_shot_preds['prediction'], 'Z': regex_preds,\n",
    "                                    'age': master_data['age'], 'gender': master_data['gender']})"
   ]
  },
  {
   "cell_type": "code",
   "execution_count": 126,
   "metadata": {},
   "outputs": [
    {
     "name": "stdout",
     "output_type": "stream",
     "text": [
      "0.5373331975145156\n"
     ]
    }
   ],
   "source": [
    "# generate A and Z as a function of U\n",
    "np.random.seed(3)\n",
    "\n",
    "size = len(semi_synthetic_data)\n",
    "\n",
    "C = np.random.normal(0, 1, size)\n",
    "\n",
    "A = np.random.binomial(1, expit(0.8*semi_synthetic_data['U']+C), size)\n",
    "\n",
    "print(np.mean(A))\n",
    "\n",
    "Y = np.random.normal(0, 1, size) + 1.3*A + 1.4*semi_synthetic_data['U'] + C\n",
    "\n",
    "semi_synthetic_data['A'] = A\n",
    "semi_synthetic_data['Y'] = Y\n",
    "semi_synthetic_data['C'] = C"
   ]
  },
  {
   "cell_type": "code",
   "execution_count": 127,
   "metadata": {},
   "outputs": [
    {
     "name": "stdout",
     "output_type": "stream",
     "text": [
      "4.147300160712981\n",
      "0.07298277666244009\n",
      "\n",
      "0.4485416454449764\n",
      "\n",
      "0.9351932275373761\n",
      "0.9575241819628402\n"
     ]
    }
   ],
   "source": [
    "print(odds_ratio('U', 'W', [], semi_synthetic_data))\n",
    "print(odds_ratio('U', 'Z', [], semi_synthetic_data))\n",
    "\n",
    "print()\n",
    "print(np.mean(semi_synthetic_data['W'] == semi_synthetic_data['Z']))\n",
    "print()\n",
    "\n",
    "print(odds_ratio('W', 'Z', ['U'], semi_synthetic_data))\n",
    "print(odds_ratio('W', 'Z', ['U', 'age', 'gender'], semi_synthetic_data))"
   ]
  },
  {
   "cell_type": "code",
   "execution_count": 119,
   "metadata": {},
   "outputs": [
    {
     "name": "stdout",
     "output_type": "stream",
     "text": [
      "1.3286920600514924\n",
      "(1.305431040873405, 1.3542336469444622)\n"
     ]
    }
   ],
   "source": [
    "print(backdoor_adjustment('Y', 'A', ['U', 'C'], semi_synthetic_data))\n",
    "print(compute_confidence_intervals_backdoor('Y', 'A', ['U', 'C'], semi_synthetic_data, 'backdoor'))"
   ]
  },
  {
   "cell_type": "code",
   "execution_count": 128,
   "metadata": {},
   "outputs": [
    {
     "name": "stdout",
     "output_type": "stream",
     "text": [
      "1.3445608163970555\n",
      "(1.192421821500404, 1.425253643270937)\n"
     ]
    }
   ],
   "source": [
    "print(proximal_find_ace('A', 'Y', 'W', 'Z', ['C'], semi_synthetic_data))\n",
    "print(compute_confidence_intervals(\"A\", \"Y\", \"W\", \"Z\", ['C'], semi_synthetic_data))"
   ]
  }
 ],
 "metadata": {
  "kernelspec": {
   "display_name": "base",
   "language": "python",
   "name": "python3"
  },
  "language_info": {
   "codemirror_mode": {
    "name": "ipython",
    "version": 3
   },
   "file_extension": ".py",
   "mimetype": "text/x-python",
   "name": "python",
   "nbconvert_exporter": "python",
   "pygments_lexer": "ipython3",
   "version": "3.10.9"
  },
  "orig_nbformat": 4
 },
 "nbformat": 4,
 "nbformat_minor": 2
}
