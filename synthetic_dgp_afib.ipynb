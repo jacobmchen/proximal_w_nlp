{
 "cells": [
  {
   "cell_type": "markdown",
   "metadata": {},
   "source": [
    "### Code creating a synthetic DGP using afib and prediction data from zero-shot classifier and regex matching."
   ]
  },
  {
   "cell_type": "code",
   "execution_count": 1,
   "metadata": {},
   "outputs": [],
   "source": [
    "import pandas as pd\n",
    "import numpy as np\n",
    "from scipy.special import expit\n",
    "import statsmodels.api as sm\n",
    "import scipy.stats as stats\n",
    "from adjustment import *\n",
    "from fcit import fcit\n",
    "from matplotlib import pyplot as plt\n",
    "import pickle\n",
    "\n",
    "from proximal import *\n",
    "from regex_predictor import *\n",
    "from odds_ratio import *\n",
    "from backdoor import *\n",
    "from bag_of_words import *\n",
    "from cohens_kappa import *"
   ]
  },
  {
   "cell_type": "code",
   "execution_count": 2,
   "metadata": {},
   "outputs": [
    {
     "name": "stdout",
     "output_type": "stream",
     "text": [
      "0.7661199959254354\n",
      "0.06183151675664663\n",
      "{'tn': 20995, 'fp': 253, 'fn': 6635, 'tp': 1568, 'sensitivity': 0.19114957942216262, 'specificity': 0.9880929969879518, 'precision': 0.8610653487095002, 'recall': 0.19114957942216262}\n",
      "0.23548148507098576\n",
      "\n",
      "0.6832365624257241\n",
      "0.26056840175206275\n",
      "{'tn': 16848, 'fp': 4400, 'fn': 4929, 'tp': 3274, 'sensitivity': 0.399122272339388, 'specificity': 0.7929216867469879, 'precision': 0.42663539223351576, 'recall': 0.399122272339388}\n",
      "0.19592245378299625\n",
      "\n",
      "0.0466896114541759\n"
     ]
    }
   ],
   "source": [
    "afib_data = pd.read_csv('csv_files/master_data.csv')\n",
    "zero_shot_preds = pd.read_csv('csv_files/predictions-xxl.csv')\n",
    "# rhythm, aorta, ventricle\n",
    "regex_preds1 = regular_expression_predict(afib_data['notes_half2'], ['atrial'])\n",
    "\n",
    "# regex_preds = pd.read_csv('csv_files/predictions-regex.csv')\n",
    "# regex_preds2 = regular_expression_predict(afib_data['notes_half2'], ['atrial fib', 'a-*fib'])\n",
    "\n",
    "print(np.mean(afib_data['afib'] == zero_shot_preds['prediction']))\n",
    "print(np.mean(zero_shot_preds['prediction']))\n",
    "print(create_confusion_matrix(afib_data['afib'], zero_shot_preds['prediction']))\n",
    "print(cohens_kappa(afib_data['afib'], zero_shot_preds['prediction']))\n",
    "print()\n",
    "\n",
    "print(np.mean(afib_data['afib'] == regex_preds1))\n",
    "print(np.mean(regex_preds1))\n",
    "print(create_confusion_matrix(afib_data['afib'], regex_preds1))\n",
    "print(cohens_kappa(afib_data['afib'], regex_preds1))\n",
    "\n",
    "print()\n",
    "print(cohens_kappa(regex_preds1, zero_shot_preds['prediction']))"
   ]
  },
  {
   "cell_type": "code",
   "execution_count": 3,
   "metadata": {},
   "outputs": [
    {
     "data": {
      "text/plain": [
       "29451"
      ]
     },
     "execution_count": 3,
     "metadata": {},
     "output_type": "execute_result"
    }
   ],
   "source": [
    "# semi_synthetic_data = pd.DataFrame({'U': afib_data['afib'], 'W': zero_shot_preds['prediction'], 'Z': regex_preds['prediction'], 'notes_half1': afib_data['notes_half1'],\n",
    "#                                    'age': afib_data['age'], 'gender': afib_data['gender']})\n",
    "semi_synthetic_data = pd.DataFrame({'U': afib_data['afib'], 'W': zero_shot_preds['prediction'], 'Z': regex_preds1,\n",
    "                                    'age': afib_data['age'], 'gender': afib_data['gender']})\n",
    "len(semi_synthetic_data)"
   ]
  },
  {
   "cell_type": "markdown",
   "metadata": {},
   "source": [
    "### Find 10 false positives and 10 false negatives from the zero-shot predictions."
   ]
  },
  {
   "cell_type": "code",
   "execution_count": 4,
   "metadata": {},
   "outputs": [],
   "source": [
    "# find 10 false positives and 10 false negatives\n",
    "false_positive = []\n",
    "false_negative = []\n",
    "\n",
    "# false positive is defined by element in W being 1 but element in U is 0\n",
    "# false negative is defined by element in W being 0 but element in U is 1\n",
    "for index, row in semi_synthetic_data.iterrows():\n",
    "    if row['U'] == 0 and row['W'] == 1 and len(false_positive) < 10:\n",
    "        false_positive.append(row['notes_half1'])\n",
    "    elif row['U'] == 1 and row['W'] == 0 and len(false_negative) < 10:\n",
    "        false_negative.append(row['notes_half1'])\n",
    "\n",
    "    if len(false_positive) == 10 and len(false_negative) == 10:\n",
    "        break\n",
    "\n",
    "analysis = pd.DataFrame({'false_positive': false_positive, 'false_negative': false_negative})\n",
    "analysis.to_csv('csv_files/predictions_analysis.csv', index=False)"
   ]
  },
  {
   "cell_type": "code",
   "execution_count": 5,
   "metadata": {},
   "outputs": [
    {
     "name": "stdout",
     "output_type": "stream",
     "text": [
      "false positives:\n",
      "PATIENT/TEST INFORMATION: Indication: Murmur. Height: (in) 64 Weight (lb): 278 BSA (m2): 2.25 m2 BP (mm Hg): 109/53 HR (bpm): 68 Status: Inpatient Date/Time: [**2133-11-20**] at 14:16 Test: Portable TTE (Complete) Doppler: Full doppler and color doppler Contrast: None Technical Quality: Adequate   INTERPRETATION:  Findings:  LEFT ATRIUM: Mild LA enlargement.  RIGHT ATRIUM/INTERATRIAL SEPTUM: Normal RA size. A catheter or pacing wire is seen in the RA and/or RV.  LEFT VENTRICLE: Normal LV wall thicknesses and cavity size. Mild regional LV systolic dysfunction.  LV WALL MOTION: Regional LV wall motion abnormalities include: basal inferoseptal - hypo; basal inferior - hypo; mid inferior - hypo;  RIGHT VENTRICLE: Normal RV chamber size and free wall motion.  AORTA: Normal aortic root diameter.  AORTIC VALVE: Mildly thickened aortic valve leaflets.  MITRAL VALVE: Mildly thickened mitral valve leaflets. Mild thickening of mitral valve chordae. Mild to moderate ([**1-30**]+) MR.  TRICUSPID VALVE: Mildly thicke\n",
      "\n",
      "PATIENT/TEST INFORMATION: Indication: Left ventricular function. Height: (in) 73 Weight (lb): 180 BSA (m2): 2.06 m2 BP (mm Hg): 137/61 Status: Inpatient Date/Time: [**2161-10-30**] at 11:50 Test: Portable TTE(Complete) Doppler: Complete pulse and color flow Contrast: None Technical Quality: Adequate   INTERPRETATION:  Findings:  LEFT ATRIUM: The left atrium is mildly dilated.  RIGHT ATRIUM/INTERATRIAL SEPTUM: The right atrium is mildly dilated.  LEFT VENTRICLE: There is mild symmetric left ventricular hypertrophy with normal cavity size. There is mild regional left ventricular systolic dysfunction. No masses or thrombi are seen in the left ventricle.  LV WALL MOTION: The following resting regional left ventricular wall motion abnormalities are seen: apex - hypokinetic;  RIGHT VENTRICLE: Right ventricular chamber size and free wall motion are normal.  AORTA: The aortic root is normal in diameter. The ascending aorta is normal in diameter.  AORTIC VALVE: The aortic valve leaflets (3) are mildly thickened but not stenotic. No aortic regurgitation is seen.  MITRAL VALVE: The mitral valve leaflets are mildly thickened. Trivial mitral regurgitation is seen.  TRICUSPID VALVE: The tricuspid valve leaflets are normal. Mild tricuspid [1+] regurgitation is seen. The estimated pulmonary artery systolic pressure is normal.  PULMONIC VALVE/PULMONARY ARTERY: The pulmonic valve leaflets appear structurally normal w\n",
      "\n",
      "PATIENT/TEST INFORMATION: Indication: ? Endocarditis. BP (mm Hg): 128/58 HR (bpm): 68 Status: Inpatient Date/Time: [**2157-3-28**] at 12:30 Test: Portable TTE (Complete) Doppler: Full Doppler and color Doppler Contrast: None Technical Quality: Good   INTERPRETATION:  Findings:  LEFT ATRIUM: Elongated LA.  RIGHT ATRIUM/INTERATRIAL SEPTUM: Normal RA size.  LEFT VENTRICLE: Normal LV wall thickness. Normal LV cavity size. Overall normal LVEF (>55%). TDI E/e' < 8, suggesting normal PCWP (<12mmHg). No resting LVOT gradient.  RIGHT VENTRICLE: Normal RV chamber size and free wall motion.  AORTA: Normal aortic diameter at the sinus level.  AORTIC VALVE: Normal aortic valve leaflets (3). No AS. No AR.  MITRAL VALVE: Normal mitral valve leaflets with trivial MR.  TRICUSPID VALVE: Normal tricuspid valve leaflets with trivia\n",
      "\n",
      "PATIENT/TEST INFORMATION: Indication: Aortic valve disease. Height: (in) 68 Weight (lb): 233 BSA (m2): 2.18 m2 BP (mm Hg): 100/70 HR (bpm): 70 Status: Outpatient Date/Time: [**2133-12-29**] at 10:41 Test: TTE (Complete) Doppler: Full doppler and color doppler Contrast: None Technical Quality: Adequate   INTERPRETATION:  Findings:  LEFT ATRIUM: Mild LA enlargement.  RIGHT ATRIUM/INTERATRIAL SEPTUM: Mildly dilated RA. A catheter or pacing wire is seen in the RA and/or RV. No ASD by 2D or color Doppler.  LEFT VENTRICLE: Wall thickness and cavity dimensions were obtained from 2D images. Mild symmetric LVH. Moderately dilated LV cavity. Severe global LV hypokinesis. No resting LVOT gradient. No LV mass/thrombus. No VSD.  RIGHT VENTRICLE: Normal RV chamber size and free wall motion.  AORTA: Normal aortic root diameter. Focal calcifications in aortic root. Mildly dilated ascending aorta. Mildly dilated aortic arch. No 2D or Doppler evidence of distal arch coarctation.  AORTIC VALVE: BIleaflet aortic valve prosthesis (AVR). Increaed AVR gradient.  MITRAL VALVE: Normal mitral valve leaflets. No MVP. Normal mitral valve supporting structures. No MS. Mild (1+) MR.  TRICUSPID VALVE: Normal tricuspid valve leaflets with trivial TR. Normal\n",
      "\n",
      "PATIENT/TEST INFORMATION: Indication: Dilated cardiomyopathy. ? Endocarditis. Height: (in) 68 Weight (lb): 110 BSA (m2): 1.59 m2 BP (mm Hg): 98/61 HR (bpm): 135 Status: Inpatient Date/Time: [**2173-12-17**] at 15:57 Test: Portable TTE (Complete) Doppler: Full Doppler and color Doppler Contrast: None Technical Quality: Adequate   INTERPRETATION:  Findings:  This study was compared to the report of the prior study (images not available) of [**2173-8-10**].   LEFT ATRIUM: Elongated LA.  RIGHT ATRIUM/INTERATRIAL SEPTUM: Mildly dilated RA.  LEFT VENTRICLE: Normal LV cavity size. Severely depressed LVEF.  RIGHT VENTRICLE: Normal RV chamber size. Mild global RV free wall hypokinesis.  AORTA: Normal aortic root diameter.  MITRAL VALVE: Normal mitral valve\n",
      "\n",
      "PATIENT/TEST INFORMATION: Indication: AVR Status: Inpatient Date/Time: [**2147-4-5**] at 13:50 Test: TEE (Complete) Doppler: Full Doppler and color Doppler Contrast: None Technical Quality: Adequate   INTERPRETATION:  Findings:  LEFT ATRIUM: No spontaneous echo contrast is seen in the LAA.  RIGHT ATRIUM/INTERATRIAL SEPTUM: Normal interatrial septum.  LEFT VENTRICLE: Wall thickness and cavity dimensions were obtained from 2D images. Normal LV wall thickness, cavity size, and systolic function (LVEF>55%).  LV WALL MOTION: basal anterior - normal; mid anterior - normal; basal anteroseptal - normal; mid anteroseptal - normal; basal inferoseptal - normal; mid inferoseptal - normal; basal inferior - normal; mid inferior - normal; basal inferolateral - normal; mid inferolateral - normal; basal anterolateral - normal; mid anterolateral - normal; anterior apex - normal; septal apex - normal; inferior apex - normal; lateral apex - normal; apex - normal;  RIGHT VENTRICLE: Normal RV chamber size and free wall motion.  AORTA: Normal descending aorta diameter. Simple atheroma in descending aorta.  AORTIC VALVE: Three aortic valve leaflets. Severely thickened/deformed aortic valve leaflets. Mild to moderate ([**1-30**]+) AR.  MITRAL VALVE: Normal mitral valv\n",
      "\n",
      "PATIENT/TEST INFORMATION: Indication: Myocardial infarction. S/P AF arrest Height: (in) 68 Weight (lb): 215 BSA (m2): 2.11 m2 BP (mm Hg): 113/71 Status: Inpatient Date/Time: [**2164-11-19**] at 10:07 Test: Portable TTE(Complete) Doppler: Complete pulse and color flow Contrast: None Technical Quality: Adequate   INTERPRETATION:  Findings:  LEFT ATRIUM: The left atrium is normal in size.  RIGHT ATRIUM/INTERATRIAL SEPTUM: The right atrium is normal in size.  LEFT VENTRICLE: Left ventricular wall thickness, cavity size, and systolic function are normal (LVEF>55%). Due to suboptimal technical quality, a focal wall motion abnormality cannot be fully excluded.  RIGHT VENTRICLE: Right ventricular chamber size and free wall motion are normal.  AORTA: The aortic root is normal in diameter.  AORTIC VALVE: The ao\n",
      "\n",
      "PATIENT/TEST INFORMATION: Indication: Left ventricular function. Myocardial infarction. Height: (in) 70 Weight (lb): 170 BSA (m2): 1.95 m2 BP (mm Hg): 93/50 HR (bpm): 99 Status: Inpatient Date/Time: [**2175-9-27**] at 10:10 Test: Portable TTE (Complete) Doppler: Full doppler and color doppler Contrast: None Technical Quality: Adequate   INTERPRETATION:  Findings:  LEFT ATRIUM: The left atrium is elongated.  LEFT VENTRICLE: There is mild symmetric left ventricular hypertrophy. The left ventricular cavity size is normal. Overall left ventricular systolic function is moderately depressed.  LV WALL MOTION: The following resting regional left ventricular wall motion abnormalities are seen: mid anterior - hypokinetic; mid anteroseptal - akinetic; mid inferoseptal - hypokinetic; mid inferior - hypokinetic; mid inferolateral - hypokinetic; mid anterolateral - hypokinetic; anterior apex - akinetic; septal apex- akinetic; inferior apex - akinetic; lateral apex - akinetic; apex - akinetic;  RIGHT VENTRICLE: Right ventricular chamber size and free wall motion are normal.  AORTA: The aortic root is normal in diameter. The aortic arch is normal in diameter.  AORTIC VALVE: The aortic valve leaflets (3) appear structurally normal with good leaflet\n",
      "\n",
      "PATIENT/TEST INFORMATION: Indication: Congenital heart disease. Mitral valve disease. Mitral valve prolapse. Murmur. Right ventricular function. Valvular heart disease. Status: Inpatient Date/Time: [**2146-4-6**] at 14:05 Test: TEE (Complete) Doppler: Full Doppler and color Doppler Contrast: None Technical Quality: Adequate   INTERPRETATION:  Findings:  Primum ASD with color flow Doppler showing left to right shunt. Mitral valve leaflets are mildly thickened, with partial prolapse of the anterior leaflet. There appears to be a c;eft in the anterior mitral leaflet, giving the mitral leaflet a \"trileaflet\" appearance. Mild posteriorly directed MR jet. LEFT ATRIUM: Marked LA enlargement. No spontaneous echo contrast or thrombus in the LA/LAA or the RA/RAA.  RIGHT ATRIUM/INTERATRIAL SEPTUM: Moderately dilated RA. Left-to-right shunt across the interatrial septum at rest. Primum ASD. The IVC is normal in diameter with appropriate phasic respirator variation.  LEFT VENTRICLE: Wall thickness and cavity dimensions were obtained from 2D images. Normal LV wall thickness. Normal LV cavity size. Overall normal LVEF (>55%).  LV WALL MOTION: basal anterior - normal; mid anterior - normal; basal anteroseptal - normal; mid anteroseptal - normal; basal inferoseptal - normal; mid inferoseptal - normal; basal inferior - normal; mid inferior - normal; basal inferolateral - normal; mid inferolateral - normal; basal anterolateral - normal; mid anterolateral - normal; anterior apex - normal; septal apex - normal; inferior apex - normal; lateral apex - normal; apex - normal;  RIGHT VENTRICLE: Moderately dilated RV cavity. Normal RV systolic function.  AORTA: Normal ascending, transverse and descending thoracic aorta with no atherosclerotic plaque. Normal ascending aorta diameter. Normal descending aorta diameter.  AORTIC VALVE: Normal aortic valve leaflets (3). No AS. No AR. No AS. No AR.  MITRAL VALVE: Mildly thickened mitral valve leaflets. Mild (1+) MR.  TRICUSPID VALVE: Nor\n",
      "\n",
      "PATIENT/TEST INFORMATION: Indication: R/O Endocarditis. Height: (in) 72 Weight (lb): 200 BSA (m2): 2.13 m2 BP (mm Hg): 140/90 Status: Inpatient Date/Time: [**2111-9-1**] at 14:57 Test: TTE(Complete) Doppler: Complete pulse and color flow Contrast: None Technical Quality: Adequate   INTERPRETATION:  Findings:  LEFT ATRIUM: The left atrium is normal in size.  RIGHT ATRIUM/INTERATRIAL SEPTUM: The right atrium is normal in size.  LEFT VENTRICLE: There is mild (non-obstructive) focal hypertrophy of the basal septum. The left ventricular cavity size is normal. Overall left ventricular systolic function is low normal (LVEF 50-55%).  RIGHT VENTRICLE: The right ventricular wall thickness is normal. Right ventricular chamber size is normal. There is focal hypokinesis of the apical free wall of the right ventricle.  AORTA: The aortic root is mildly dilated. The ascending aorta is normal in diameter. The aortic arch is normal in diameter. No 2D echo or Doppler evidence of coarctation of the distal aortic arch.  AORTIC VALVE: The aortic valve leaflets (3) appear structurally normal with good leaflet excursion and no aortic regurgitation.  MITRAL VALVE: The mitral valve appears structurally normal \n",
      "\n",
      "\n",
      "false negatives:\n",
      "Magnet induced A-V sequentially paced rhythm as compared \n",
      "\n",
      "Atrial fibrillation with a rapid ventricular response of about 145. T wave inversion in the inferolateral leads. ST segment elevation in leads VI-V3. Poor R wave progression in leads VI-V3 consisten\n",
      "\n",
      "Sinus rhythm Ventricular premature complex Atrial premature complexes Modest nonspecific intraventricular conduction delay Anteroseptal my\n",
      "\n",
      "Sinus rhythm with first degree A-V delay Left atrial abnormality Inferior infarct, age indeterminate - ST-T wave configuration suggests acute/recent/\n",
      "\n",
      "Sinus rhythm Lateral ST elevation of doubtful significance - repeat if\n",
      "\n",
      "PATIENT/TEST INFORMATION: Indication: Chronic lung disease. H/O cardiac surgery with distant CABG. Left ventricular function. Height: (in) 68 Weight (lb): 160 BSA (m2): 1.86 m2 BP (mm Hg): 97/47 HR (bpm): 62 Status: Inpatient Date/Time: [**2149-12-19**] at 11:04 Test: Portable TTE (Complete) Doppler: Full doppler and color doppler Contrast: None Technical Quality: Suboptimal   INTERPRETATION:  Findings:  Study continues from Tape [**2149**] W487 to tape [**2149**] W 509, starting at 0:15 for an additional seven minutes of recording. LEFT ATRIUM: Mild LA enlargement.  RIGHT ATRIUM/INTERATRIAL SEPTUM: Mildly dilated RA.  LEFT VENTRICLE: Normal LV cavity size. Suboptimal technical quality, a focal LV wall motion abnormality cannot be fully excluded. Depressed LVEF. Cannot assess LVEF.  RIGHT VENTRICLE:\n",
      "\n",
      "PATIENT/TEST INFORMATION: Indication: Pericardial effusion. Height: (in) 68 Weight (lb): 184 BSA (m2): 1.97 m2 BP (mm Hg): 140/80 HR (bpm): 70 Status: Inpatient Date/Time: [**2142-7-16**] at 10:20 Test: TTE (Focused views) Doppler: No doppler Contrast: None Technical Quality: Adequate   INTERPRETATION:  Findings:  LEFT ATRIUM: The left atrium is moderately dilated. The left atrium is elongated.  RIGHT ATRIUM/INTERATRIAL SEPTUM: The right atrium is moderately dilated.  LEFT VENTRICLE: There is severe symmetric left ventricular hypertrophy. The left ventricular cavity size is normal. Overall left ventricular systolic function is low normal (LVEF 50-55%).  LV WALL MOTION: The following resting regional left ventricular wall motion abnormalities are seen: basal inferoseptal - hypokinetic; mid inferoseptal - hypokinetic; basal inferior - hypokinetic; mid inferior - hypokinetic;  RIGHT VENTRICLE: The right ventricular free wall is hypertrophied. Right ventricular chamber size is normal. Right ventricular systolic function is normal.  AORTIC VALVE: The aortic valve leaflets (3) are mildly thickened.  MITRAL VALVE: The mitral valve leaflets are mildly thickened. There is mild mitral annular calcification.  TRICUSPID VALVE: Mild tricuspid [1+] regurgitation is seen. There is mild pulmonary artery\n",
      "\n",
      "PATIENT/TEST INFORMATION: Indication: Left ventricular function. Height: (in) 72 Weight (lb): 157 BSA (m2): 1.92 m2 BP (mm Hg): 92/44 Status: Inpatient Date/Time: [**2125-11-12**] at 12:10 Test: TTE (Complete) Doppler: Complete pulse and color flow Contrast: None Technical Quality: Suboptimal   INTERPRETATION:  Findings:  LEFT ATRIUM: The left atrium is mildly dilated.  RIGHT ATRIUM/INTERATRIAL SEPTUM: The right atrium is normal in size.  LEFT VENTRICLE: Left ventricular wall thicknesses are normal. The left ventricular cavity size is normal. Overall left ventricular systolic function is mildly depressed.  LV WALL MOTION: The following resting regional left ventricular wall motion abnormalities are seen: basal inferior - akinetic; mid inferior - akinetic; basal inferolateral - akinetic; mid inferolateral - akinetic;  RIGHT VENTRICLE: Right ventricular chamber size an\n",
      "\n",
      "Atrial fibrillation Demand ventricular pacing Ventricular premature \n",
      "\n",
      "Atrial tachycardia. Axis borderline leftward. Right bundle-branch block. Compared to the previous tracing of [**2179-2-3**\n",
      "\n"
     ]
    }
   ],
   "source": [
    "print('false positives:')\n",
    "for sentence in false_positive:\n",
    "    print(sentence)\n",
    "    print()\n",
    "\n",
    "print()\n",
    "\n",
    "print('false negatives:')\n",
    "for sentence in false_negative:\n",
    "    print(sentence)\n",
    "    print()"
   ]
  },
  {
   "cell_type": "markdown",
   "metadata": {},
   "source": [
    "### Synthetic DGP starts here."
   ]
  },
  {
   "cell_type": "code",
   "execution_count": 4,
   "metadata": {},
   "outputs": [
    {
     "name": "stdout",
     "output_type": "stream",
     "text": [
      "76.41380598281891\n",
      "56.78193469093504\n",
      "0.5121388068316866\n"
     ]
    }
   ],
   "source": [
    "# generate A and Z as a function of U\n",
    "np.random.seed(1)\n",
    "\n",
    "size = len(semi_synthetic_data)\n",
    "\n",
    "print(np.mean(semi_synthetic_data['age']))\n",
    "print(np.std(semi_synthetic_data['age']))\n",
    "\n",
    "C = np.random.normal(76.4, 56.8, size)\n",
    "\n",
    "A = np.random.binomial(1, expit(0.8*semi_synthetic_data['U'] + 0.8*semi_synthetic_data['gender'] + 0.8*(semi_synthetic_data['age'] - 67)), size)\n",
    "\n",
    "print(np.mean(A))\n",
    "\n",
    "Y = np.random.normal(0, 1, size) + 1.3*A + 1.4*semi_synthetic_data['U'] + 0.8*semi_synthetic_data['gender'] + 0.5*semi_synthetic_data['age']\n",
    "\n",
    "semi_synthetic_data['A'] = A\n",
    "semi_synthetic_data['Y'] = Y\n",
    "semi_synthetic_data['C'] = C"
   ]
  },
  {
   "cell_type": "code",
   "execution_count": 7,
   "metadata": {},
   "outputs": [
    {
     "name": "stdout",
     "output_type": "stream",
     "text": [
      "19.611033833634597\n",
      "2.5434050794001957\n",
      "\n",
      "0.7233710230552443\n",
      "0.0466896114541759\n",
      "\n",
      "1.7189096474305383\n",
      "1.731799725993281\n",
      "\n",
      "0.9878524260838915\n",
      "1.0166407944379683\n"
     ]
    }
   ],
   "source": [
    "print(odds_ratio('U', 'W', [], semi_synthetic_data))\n",
    "print(odds_ratio('U', 'Z', [], semi_synthetic_data))\n",
    "\n",
    "print()\n",
    "print(np.mean(semi_synthetic_data['W'] == semi_synthetic_data['Z']))\n",
    "print(cohens_kappa(semi_synthetic_data['W'], semi_synthetic_data['Z']))\n",
    "print()\n",
    "\n",
    "print(odds_ratio('W', 'Z', ['age', 'gender'], semi_synthetic_data))\n",
    "print(odds_ratio('W', 'Z', [], semi_synthetic_data))\n",
    "print()\n",
    "\n",
    "print(odds_ratio('W', 'Z', ['U'], semi_synthetic_data))\n",
    "print(odds_ratio('W', 'Z', ['U', 'age', 'gender'], semi_synthetic_data))"
   ]
  },
  {
   "cell_type": "code",
   "execution_count": 8,
   "metadata": {},
   "outputs": [
    {
     "name": "stdout",
     "output_type": "stream",
     "text": [
      "1.2908561122132767\n",
      "(1.2619049658272838, 1.3140094593137908, [1.2898160610155713, 1.3070971509143234, 1.2760356722822053, 1.2969014058025081, 1.2898870000599914, 1.2619185236445176, 1.261376210955163, 1.2935437380669015, 1.277046570485581, 1.2728197185804504, 1.2897100432461812, 1.283228819355024, 1.2881935315055273, 1.2887013776327052, 1.3254043809661766, 1.2766472984074184, 1.3012550030210406, 1.2916895708891545, 1.3138176246275464, 1.2668791204091718, 1.3086104156959948, 1.2793800986685042, 1.3060046770328384, 1.307098454287356, 1.2733187095636893, 1.2971598961115234, 1.294419415077975, 1.282164430690429, 1.3024996811306053, 1.2848092848895973, 1.3071186743765892, 1.2845245567085826, 1.2767986723660698, 1.2781926384816842, 1.2818735726354475, 1.2950361961503987, 1.2830638271876964, 1.2914764850694738, 1.3084875886073064, 1.2830698530266105, 1.2844177750808115, 1.2744743599245325, 1.2894065021392294, 1.2878264894928364, 1.2793739888314235, 1.3124229783031112, 1.2631214875358125, 1.2826007164355033, 1.2921284231707233, 1.2811280138599486, 1.301174503239963, 1.3052268580052342, 1.2950229460867817, 1.2817605205038731, 1.3011988385403868, 1.2789472917088105, 1.288446745471468, 1.3136811040640168, 1.2755127345743986, 1.31129886644176, 1.2957588078842548, 1.2458714490704352, 1.2917785898395948, 1.2920244360353195, 1.2978589425187153, 1.288078169649907, 1.2966106585839583, 1.2652462335211396, 1.2735944264429904, 1.2776193097654414, 1.291117343914479, 1.28655909034579, 1.306000332070738, 1.2711749120292097, 1.2941900197226417, 1.286211917187508, 1.266492995131074, 1.2902064780552038, 1.2811304320708459, 1.2932559019943781, 1.2775279637456975, 1.2957517193961579, 1.255943379849569, 1.292449591855899, 1.2904494373880837, 1.290133816465186, 1.2969778624976627, 1.2823806890267377, 1.3055979476178692, 1.2951400480317972, 1.2952854632363398, 1.2667521993362953, 1.2852934808779537, 1.2966355595638461, 1.3025313756882753, 1.2886315589611073, 1.2905932037146641, 1.295000203891206, 1.2766535985854475, 1.301405621061754, 1.2900857512030441, 1.3139780064288828, 1.2895031593308417, 1.29536690587868, 1.2926685250910666, 1.3082253786497517, 1.3059455284041874, 1.3006052069085356, 1.2664668202721856, 1.3075127405166285, 1.3107077326125207, 1.2998732585925907, 1.287161777492031, 1.2996743434397615, 1.2893632471360519, 1.2788003152498746, 1.296875039476582, 1.269780748198876, 1.2890761830269923, 1.3013678132000877, 1.2811835245915404, 1.3220797206874053, 1.278349800322296, 1.2825810151917736, 1.3011909509200237, 1.2678786669669577, 1.292130038217124, 1.2976759537236546, 1.2951810042612806, 1.3104952017783944, 1.296481766390876, 1.2858945129227521, 1.3018287511901292, 1.300492552568194, 1.289854281058787, 1.279980750556689, 1.2989432759282664, 1.2911232927689014, 1.266483810201123, 1.278381889912211, 1.2609247110836463, 1.2918198102521998, 1.3011830143346401, 1.3193053217816555, 1.2960926022858885, 1.2857484391336698, 1.280588856570759, 1.2949433282712661, 1.2858525718394418, 1.302792648530179, 1.3176791719938166, 1.281703801904115, 1.281223154800891, 1.2923417578298952, 1.2962803672423888, 1.259196026678545, 1.3117124621956648, 1.285211755014231, 1.3042959107310992, 1.2906692752971196, 1.291296909864947, 1.2955384747575849, 1.2916661635183075, 1.2881889988951158, 1.2900231783978953, 1.2803455144419829, 1.315236121825201, 1.304503262830167, 1.276809514054328, 1.2812977069338132, 1.2910741904816518, 1.3029827553330762, 1.2889068621234614, 1.2893023073247818, 1.272803302965606, 1.2747480696250904, 1.2791315035496638, 1.300330650233434, 1.2835245913631397, 1.2838110385737735, 1.2901162653502212, 1.285945744262122, 1.2810103642207054, 1.30072665629001, 1.2917969160377822, 1.30735581829029, 1.2955070970404634, 1.2886260516206605, 1.3056549822060717, 1.2938260955976588, 1.3028609504037263, 1.2821665311433605, 1.2752813885213286, 1.2764433077796014, 1.2753601884222405, 1.265885639559663, 1.2920431837759097, 1.2776276224658147, 1.275771780091496, 1.2963977309075574])\n"
     ]
    }
   ],
   "source": [
    "print(backdoor_adjustment('Y', 'A', ['U', 'gender', 'age'], semi_synthetic_data))\n",
    "print(compute_confidence_intervals_backdoor('Y', 'A', ['U', 'gender', 'age'], semi_synthetic_data, 'backdoor'))"
   ]
  },
  {
   "cell_type": "markdown",
   "metadata": {},
   "source": [
    "### Use proximal with two proxies that are just random chance."
   ]
  },
  {
   "cell_type": "code",
   "execution_count": 8,
   "metadata": {},
   "outputs": [],
   "source": [
    "np.random.seed(2)\n",
    "\n",
    "random_classifier1 = np.random.binomial(1, 0.5, len(semi_synthetic_data))\n",
    "\n",
    "random_classifier2 = np.random.binomial(1, 0.5, len(semi_synthetic_data))\n",
    "\n",
    "semi_synthetic_data['R1'] = random_classifier1\n",
    "semi_synthetic_data['R2'] = random_classifier2\n",
    "\n",
    "ace = proximal_find_ace('A', 'Y', 'R1', 'R2', ['age', 'gender'], semi_synthetic_data)\n",
    "conf_int = compute_confidence_intervals('A', 'Y', 'R1', 'R2', ['age', 'gender'], semi_synthetic_data)\n",
    "\n",
    "with open('pickle_files/afib_baseline.pkl', 'wb') as file:\n",
    "    pickle.dump((ace, conf_int[0], conf_int[1]), file)"
   ]
  },
  {
   "cell_type": "markdown",
   "metadata": {},
   "source": [
    "### Use backdoor with Flan-T5 as the predictions."
   ]
  },
  {
   "cell_type": "code",
   "execution_count": 9,
   "metadata": {},
   "outputs": [],
   "source": [
    "ace = backdoor_adjustment('Y', 'A', ['W', 'age', 'gender'], semi_synthetic_data)\n",
    "conf_int = compute_confidence_intervals_backdoor('Y', 'A', ['W', 'age', 'gender'], semi_synthetic_data, 'backdoor')\n",
    "\n",
    "with open('pickle_files/afib_backdoor.pkl', 'wb') as file:\n",
    "    pickle.dump((ace, conf_int[0], conf_int[1]), file)"
   ]
  },
  {
   "cell_type": "markdown",
   "metadata": {},
   "source": [
    "### Use proximal with Flan-T5 and Lexicon predictions."
   ]
  },
  {
   "cell_type": "code",
   "execution_count": 11,
   "metadata": {},
   "outputs": [
    {
     "name": "stdout",
     "output_type": "stream",
     "text": [
      "1.3261855439763253\n",
      "(1.214280675397115, 1.416181220823031)\n"
     ]
    }
   ],
   "source": [
    "ace = proximal_find_ace('A', 'Y', 'W', 'Z', ['age', 'gender'], semi_synthetic_data)\n",
    "conf_int = compute_confidence_intervals('A', 'Y', 'W', 'Z', ['age', 'gender'], semi_synthetic_data)\n",
    "print(ace)\n",
    "print(conf_int)"
   ]
  },
  {
   "cell_type": "code",
   "execution_count": null,
   "metadata": {},
   "outputs": [],
   "source": [
    "with open('pickle_files/afib_proximal.pkl', 'wb') as file:\n",
    "    pickle.dump((ace, conf_int[0], conf_int[1]), file)"
   ]
  },
  {
   "cell_type": "code",
   "execution_count": 24,
   "metadata": {},
   "outputs": [
    {
     "name": "stdout",
     "output_type": "stream",
     "text": [
      "1.540988774116704\n"
     ]
    },
    {
     "name": "stdout",
     "output_type": "stream",
     "text": [
      "(1.5152403034202575, 1.5640290262683836)\n"
     ]
    }
   ],
   "source": [
    "print(backdoor_adjustment('Y', 'A', [], semi_synthetic_data))\n",
    "print(compute_confidence_intervals_backdoor('Y', 'A', [], semi_synthetic_data, 'backdoor'))"
   ]
  },
  {
   "cell_type": "code",
   "execution_count": 10,
   "metadata": {},
   "outputs": [
    {
     "name": "stdout",
     "output_type": "stream",
     "text": [
      "0.5309836677871719\n"
     ]
    }
   ],
   "source": [
    "print(np.mean(semi_synthetic_data['W'] == semi_synthetic_data['Z']))"
   ]
  },
  {
   "cell_type": "code",
   "execution_count": 32,
   "metadata": {},
   "outputs": [
    {
     "name": "stdout",
     "output_type": "stream",
     "text": [
      "0.9859719562743827\n",
      "0.0\n",
      "0.5318568415892917\n"
     ]
    }
   ],
   "source": [
    "np.random.seed(0)\n",
    "\n",
    "size = 50000\n",
    "\n",
    "N = np.random.binomial(1, 0.5, size)\n",
    "L = np.random.binomial(1, expit(2*N), size)\n",
    "P = np.random.binomial(1, expit(1.5*N), size)\n",
    "\n",
    "test_df = pd.DataFrame({'N': N, 'L': L, 'P': P})\n",
    "\n",
    "print(odds_ratio('L', 'P', ['N'], test_df))"
   ]
  }
 ],
 "metadata": {
  "kernelspec": {
   "display_name": "base",
   "language": "python",
   "name": "python3"
  },
  "language_info": {
   "codemirror_mode": {
    "name": "ipython",
    "version": 3
   },
   "file_extension": ".py",
   "mimetype": "text/x-python",
   "name": "python",
   "nbconvert_exporter": "python",
   "pygments_lexer": "ipython3",
   "version": "3.10.9"
  },
  "orig_nbformat": 4
 },
 "nbformat": 4,
 "nbformat_minor": 2
}
