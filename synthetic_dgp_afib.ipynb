{
 "cells": [
  {
   "cell_type": "markdown",
   "metadata": {},
   "source": [
    "### Code creating a synthetic DGP using afib and prediction data from zero-shot classifier and regex matching."
   ]
  },
  {
   "cell_type": "code",
   "execution_count": 1,
   "metadata": {},
   "outputs": [],
   "source": [
    "import pandas as pd\n",
    "import numpy as np\n",
    "from scipy.special import expit\n",
    "import statsmodels.api as sm\n",
    "import scipy.stats as stats\n",
    "from adjustment import *\n",
    "from fcit import fcit\n",
    "\n",
    "from proximal import *\n",
    "from regex_predictor import *\n",
    "from odds_ratio import *\n",
    "from backdoor import *"
   ]
  },
  {
   "cell_type": "code",
   "execution_count": 2,
   "metadata": {},
   "outputs": [
    {
     "name": "stdout",
     "output_type": "stream",
     "text": [
      "0.7661199959254354\n",
      "0.06183151675664663\n",
      "\n",
      "0.6832365624257241\n",
      "0.26056840175206275\n"
     ]
    }
   ],
   "source": [
    "afib_data = pd.read_csv('csv_files/master_data.csv')\n",
    "zero_shot_preds = pd.read_csv('csv_files/predictions-xxl.csv')\n",
    "# rhythm, aorta, ventricle\n",
    "regex_preds1 = regular_expression_predict(afib_data['notes_half2'], ['atrial'])\n",
    "\n",
    "regex_preds = pd.read_csv('csv_files/predictions-regex.csv')\n",
    "regex_preds2 = regular_expression_predict(afib_data['notes_half2'], ['atrial fib', 'a-*fib'])\n",
    "\n",
    "print(np.mean(afib_data['afib'] == zero_shot_preds['prediction']))\n",
    "print(np.mean(zero_shot_preds['prediction']))\n",
    "print()\n",
    "\n",
    "print(np.mean(afib_data['afib'] == regex_preds1))\n",
    "print(np.mean(regex_preds1))"
   ]
  },
  {
   "cell_type": "code",
   "execution_count": 3,
   "metadata": {},
   "outputs": [
    {
     "data": {
      "text/plain": [
       "29451"
      ]
     },
     "execution_count": 3,
     "metadata": {},
     "output_type": "execute_result"
    }
   ],
   "source": [
    "# semi_synthetic_data = pd.DataFrame({'U': afib_data['afib'], 'W': zero_shot_preds['prediction'], 'Z': regex_preds['prediction'], 'notes_half1': afib_data['notes_half1'],\n",
    "#                                    'age': afib_data['age'], 'gender': afib_data['gender']})\n",
    "semi_synthetic_data = pd.DataFrame({'U': afib_data['afib'], 'W': zero_shot_preds['prediction'], 'Z': regex_preds1,\n",
    "                                    'age': afib_data['age'], 'gender': afib_data['gender']})\n",
    "len(semi_synthetic_data)"
   ]
  },
  {
   "cell_type": "markdown",
   "metadata": {},
   "source": [
    "### Find 10 false positives and 10 false negatives from the zero-shot predictions."
   ]
  },
  {
   "cell_type": "code",
   "execution_count": 4,
   "metadata": {},
   "outputs": [],
   "source": [
    "# find 10 false positives and 10 false negatives\n",
    "false_positive = []\n",
    "false_negative = []\n",
    "\n",
    "# false positive is defined by element in W being 1 but element in U is 0\n",
    "# false negative is defined by element in W being 0 but element in U is 1\n",
    "for index, row in semi_synthetic_data.iterrows():\n",
    "    if row['U'] == 0 and row['W'] == 1 and len(false_positive) < 10:\n",
    "        false_positive.append(row['notes_half1'])\n",
    "    elif row['U'] == 1 and row['W'] == 0 and len(false_negative) < 10:\n",
    "        false_negative.append(row['notes_half1'])\n",
    "\n",
    "    if len(false_positive) == 10 and len(false_negative) == 10:\n",
    "        break\n",
    "\n",
    "analysis = pd.DataFrame({'false_positive': false_positive, 'false_negative': false_negative})\n",
    "analysis.to_csv('csv_files/predictions_analysis.csv', index=False)"
   ]
  },
  {
   "cell_type": "code",
   "execution_count": 5,
   "metadata": {},
   "outputs": [
    {
     "name": "stdout",
     "output_type": "stream",
     "text": [
      "false positives:\n",
      "PATIENT/TEST INFORMATION: Indication: Murmur. Height: (in) 64 Weight (lb): 278 BSA (m2): 2.25 m2 BP (mm Hg): 109/53 HR (bpm): 68 Status: Inpatient Date/Time: [**2133-11-20**] at 14:16 Test: Portable TTE (Complete) Doppler: Full doppler and color doppler Contrast: None Technical Quality: Adequate   INTERPRETATION:  Findings:  LEFT ATRIUM: Mild LA enlargement.  RIGHT ATRIUM/INTERATRIAL SEPTUM: Normal RA size. A catheter or pacing wire is seen in the RA and/or RV.  LEFT VENTRICLE: Normal LV wall thicknesses and cavity size. Mild regional LV systolic dysfunction.  LV WALL MOTION: Regional LV wall motion abnormalities include: basal inferoseptal - hypo; basal inferior - hypo; mid inferior - hypo;  RIGHT VENTRICLE: Normal RV chamber size and free wall motion.  AORTA: Normal aortic root diameter.  AORTIC VALVE: Mildly thickened aortic valve leaflets.  MITRAL VALVE: Mildly thickened mitral valve leaflets. Mild thickening of mitral valve chordae. Mild to moderate ([**1-30**]+) MR.  TRICUSPID VALVE: Mildly thicke\n",
      "\n",
      "PATIENT/TEST INFORMATION: Indication: Left ventricular function. Height: (in) 73 Weight (lb): 180 BSA (m2): 2.06 m2 BP (mm Hg): 137/61 Status: Inpatient Date/Time: [**2161-10-30**] at 11:50 Test: Portable TTE(Complete) Doppler: Complete pulse and color flow Contrast: None Technical Quality: Adequate   INTERPRETATION:  Findings:  LEFT ATRIUM: The left atrium is mildly dilated.  RIGHT ATRIUM/INTERATRIAL SEPTUM: The right atrium is mildly dilated.  LEFT VENTRICLE: There is mild symmetric left ventricular hypertrophy with normal cavity size. There is mild regional left ventricular systolic dysfunction. No masses or thrombi are seen in the left ventricle.  LV WALL MOTION: The following resting regional left ventricular wall motion abnormalities are seen: apex - hypokinetic;  RIGHT VENTRICLE: Right ventricular chamber size and free wall motion are normal.  AORTA: The aortic root is normal in diameter. The ascending aorta is normal in diameter.  AORTIC VALVE: The aortic valve leaflets (3) are mildly thickened but not stenotic. No aortic regurgitation is seen.  MITRAL VALVE: The mitral valve leaflets are mildly thickened. Trivial mitral regurgitation is seen.  TRICUSPID VALVE: The tricuspid valve leaflets are normal. Mild tricuspid [1+] regurgitation is seen. The estimated pulmonary artery systolic pressure is normal.  PULMONIC VALVE/PULMONARY ARTERY: The pulmonic valve leaflets appear structurally normal w\n",
      "\n",
      "PATIENT/TEST INFORMATION: Indication: ? Endocarditis. BP (mm Hg): 128/58 HR (bpm): 68 Status: Inpatient Date/Time: [**2157-3-28**] at 12:30 Test: Portable TTE (Complete) Doppler: Full Doppler and color Doppler Contrast: None Technical Quality: Good   INTERPRETATION:  Findings:  LEFT ATRIUM: Elongated LA.  RIGHT ATRIUM/INTERATRIAL SEPTUM: Normal RA size.  LEFT VENTRICLE: Normal LV wall thickness. Normal LV cavity size. Overall normal LVEF (>55%). TDI E/e' < 8, suggesting normal PCWP (<12mmHg). No resting LVOT gradient.  RIGHT VENTRICLE: Normal RV chamber size and free wall motion.  AORTA: Normal aortic diameter at the sinus level.  AORTIC VALVE: Normal aortic valve leaflets (3). No AS. No AR.  MITRAL VALVE: Normal mitral valve leaflets with trivial MR.  TRICUSPID VALVE: Normal tricuspid valve leaflets with trivia\n",
      "\n",
      "PATIENT/TEST INFORMATION: Indication: Aortic valve disease. Height: (in) 68 Weight (lb): 233 BSA (m2): 2.18 m2 BP (mm Hg): 100/70 HR (bpm): 70 Status: Outpatient Date/Time: [**2133-12-29**] at 10:41 Test: TTE (Complete) Doppler: Full doppler and color doppler Contrast: None Technical Quality: Adequate   INTERPRETATION:  Findings:  LEFT ATRIUM: Mild LA enlargement.  RIGHT ATRIUM/INTERATRIAL SEPTUM: Mildly dilated RA. A catheter or pacing wire is seen in the RA and/or RV. No ASD by 2D or color Doppler.  LEFT VENTRICLE: Wall thickness and cavity dimensions were obtained from 2D images. Mild symmetric LVH. Moderately dilated LV cavity. Severe global LV hypokinesis. No resting LVOT gradient. No LV mass/thrombus. No VSD.  RIGHT VENTRICLE: Normal RV chamber size and free wall motion.  AORTA: Normal aortic root diameter. Focal calcifications in aortic root. Mildly dilated ascending aorta. Mildly dilated aortic arch. No 2D or Doppler evidence of distal arch coarctation.  AORTIC VALVE: BIleaflet aortic valve prosthesis (AVR). Increaed AVR gradient.  MITRAL VALVE: Normal mitral valve leaflets. No MVP. Normal mitral valve supporting structures. No MS. Mild (1+) MR.  TRICUSPID VALVE: Normal tricuspid valve leaflets with trivial TR. Normal\n",
      "\n",
      "PATIENT/TEST INFORMATION: Indication: Dilated cardiomyopathy. ? Endocarditis. Height: (in) 68 Weight (lb): 110 BSA (m2): 1.59 m2 BP (mm Hg): 98/61 HR (bpm): 135 Status: Inpatient Date/Time: [**2173-12-17**] at 15:57 Test: Portable TTE (Complete) Doppler: Full Doppler and color Doppler Contrast: None Technical Quality: Adequate   INTERPRETATION:  Findings:  This study was compared to the report of the prior study (images not available) of [**2173-8-10**].   LEFT ATRIUM: Elongated LA.  RIGHT ATRIUM/INTERATRIAL SEPTUM: Mildly dilated RA.  LEFT VENTRICLE: Normal LV cavity size. Severely depressed LVEF.  RIGHT VENTRICLE: Normal RV chamber size. Mild global RV free wall hypokinesis.  AORTA: Normal aortic root diameter.  MITRAL VALVE: Normal mitral valve\n",
      "\n",
      "PATIENT/TEST INFORMATION: Indication: AVR Status: Inpatient Date/Time: [**2147-4-5**] at 13:50 Test: TEE (Complete) Doppler: Full Doppler and color Doppler Contrast: None Technical Quality: Adequate   INTERPRETATION:  Findings:  LEFT ATRIUM: No spontaneous echo contrast is seen in the LAA.  RIGHT ATRIUM/INTERATRIAL SEPTUM: Normal interatrial septum.  LEFT VENTRICLE: Wall thickness and cavity dimensions were obtained from 2D images. Normal LV wall thickness, cavity size, and systolic function (LVEF>55%).  LV WALL MOTION: basal anterior - normal; mid anterior - normal; basal anteroseptal - normal; mid anteroseptal - normal; basal inferoseptal - normal; mid inferoseptal - normal; basal inferior - normal; mid inferior - normal; basal inferolateral - normal; mid inferolateral - normal; basal anterolateral - normal; mid anterolateral - normal; anterior apex - normal; septal apex - normal; inferior apex - normal; lateral apex - normal; apex - normal;  RIGHT VENTRICLE: Normal RV chamber size and free wall motion.  AORTA: Normal descending aorta diameter. Simple atheroma in descending aorta.  AORTIC VALVE: Three aortic valve leaflets. Severely thickened/deformed aortic valve leaflets. Mild to moderate ([**1-30**]+) AR.  MITRAL VALVE: Normal mitral valv\n",
      "\n",
      "PATIENT/TEST INFORMATION: Indication: Myocardial infarction. S/P AF arrest Height: (in) 68 Weight (lb): 215 BSA (m2): 2.11 m2 BP (mm Hg): 113/71 Status: Inpatient Date/Time: [**2164-11-19**] at 10:07 Test: Portable TTE(Complete) Doppler: Complete pulse and color flow Contrast: None Technical Quality: Adequate   INTERPRETATION:  Findings:  LEFT ATRIUM: The left atrium is normal in size.  RIGHT ATRIUM/INTERATRIAL SEPTUM: The right atrium is normal in size.  LEFT VENTRICLE: Left ventricular wall thickness, cavity size, and systolic function are normal (LVEF>55%). Due to suboptimal technical quality, a focal wall motion abnormality cannot be fully excluded.  RIGHT VENTRICLE: Right ventricular chamber size and free wall motion are normal.  AORTA: The aortic root is normal in diameter.  AORTIC VALVE: The ao\n",
      "\n",
      "PATIENT/TEST INFORMATION: Indication: Left ventricular function. Myocardial infarction. Height: (in) 70 Weight (lb): 170 BSA (m2): 1.95 m2 BP (mm Hg): 93/50 HR (bpm): 99 Status: Inpatient Date/Time: [**2175-9-27**] at 10:10 Test: Portable TTE (Complete) Doppler: Full doppler and color doppler Contrast: None Technical Quality: Adequate   INTERPRETATION:  Findings:  LEFT ATRIUM: The left atrium is elongated.  LEFT VENTRICLE: There is mild symmetric left ventricular hypertrophy. The left ventricular cavity size is normal. Overall left ventricular systolic function is moderately depressed.  LV WALL MOTION: The following resting regional left ventricular wall motion abnormalities are seen: mid anterior - hypokinetic; mid anteroseptal - akinetic; mid inferoseptal - hypokinetic; mid inferior - hypokinetic; mid inferolateral - hypokinetic; mid anterolateral - hypokinetic; anterior apex - akinetic; septal apex- akinetic; inferior apex - akinetic; lateral apex - akinetic; apex - akinetic;  RIGHT VENTRICLE: Right ventricular chamber size and free wall motion are normal.  AORTA: The aortic root is normal in diameter. The aortic arch is normal in diameter.  AORTIC VALVE: The aortic valve leaflets (3) appear structurally normal with good leaflet\n",
      "\n",
      "PATIENT/TEST INFORMATION: Indication: Congenital heart disease. Mitral valve disease. Mitral valve prolapse. Murmur. Right ventricular function. Valvular heart disease. Status: Inpatient Date/Time: [**2146-4-6**] at 14:05 Test: TEE (Complete) Doppler: Full Doppler and color Doppler Contrast: None Technical Quality: Adequate   INTERPRETATION:  Findings:  Primum ASD with color flow Doppler showing left to right shunt. Mitral valve leaflets are mildly thickened, with partial prolapse of the anterior leaflet. There appears to be a c;eft in the anterior mitral leaflet, giving the mitral leaflet a \"trileaflet\" appearance. Mild posteriorly directed MR jet. LEFT ATRIUM: Marked LA enlargement. No spontaneous echo contrast or thrombus in the LA/LAA or the RA/RAA.  RIGHT ATRIUM/INTERATRIAL SEPTUM: Moderately dilated RA. Left-to-right shunt across the interatrial septum at rest. Primum ASD. The IVC is normal in diameter with appropriate phasic respirator variation.  LEFT VENTRICLE: Wall thickness and cavity dimensions were obtained from 2D images. Normal LV wall thickness. Normal LV cavity size. Overall normal LVEF (>55%).  LV WALL MOTION: basal anterior - normal; mid anterior - normal; basal anteroseptal - normal; mid anteroseptal - normal; basal inferoseptal - normal; mid inferoseptal - normal; basal inferior - normal; mid inferior - normal; basal inferolateral - normal; mid inferolateral - normal; basal anterolateral - normal; mid anterolateral - normal; anterior apex - normal; septal apex - normal; inferior apex - normal; lateral apex - normal; apex - normal;  RIGHT VENTRICLE: Moderately dilated RV cavity. Normal RV systolic function.  AORTA: Normal ascending, transverse and descending thoracic aorta with no atherosclerotic plaque. Normal ascending aorta diameter. Normal descending aorta diameter.  AORTIC VALVE: Normal aortic valve leaflets (3). No AS. No AR. No AS. No AR.  MITRAL VALVE: Mildly thickened mitral valve leaflets. Mild (1+) MR.  TRICUSPID VALVE: Nor\n",
      "\n",
      "PATIENT/TEST INFORMATION: Indication: R/O Endocarditis. Height: (in) 72 Weight (lb): 200 BSA (m2): 2.13 m2 BP (mm Hg): 140/90 Status: Inpatient Date/Time: [**2111-9-1**] at 14:57 Test: TTE(Complete) Doppler: Complete pulse and color flow Contrast: None Technical Quality: Adequate   INTERPRETATION:  Findings:  LEFT ATRIUM: The left atrium is normal in size.  RIGHT ATRIUM/INTERATRIAL SEPTUM: The right atrium is normal in size.  LEFT VENTRICLE: There is mild (non-obstructive) focal hypertrophy of the basal septum. The left ventricular cavity size is normal. Overall left ventricular systolic function is low normal (LVEF 50-55%).  RIGHT VENTRICLE: The right ventricular wall thickness is normal. Right ventricular chamber size is normal. There is focal hypokinesis of the apical free wall of the right ventricle.  AORTA: The aortic root is mildly dilated. The ascending aorta is normal in diameter. The aortic arch is normal in diameter. No 2D echo or Doppler evidence of coarctation of the distal aortic arch.  AORTIC VALVE: The aortic valve leaflets (3) appear structurally normal with good leaflet excursion and no aortic regurgitation.  MITRAL VALVE: The mitral valve appears structurally normal \n",
      "\n",
      "\n",
      "false negatives:\n",
      "Magnet induced A-V sequentially paced rhythm as compared \n",
      "\n",
      "Atrial fibrillation with a rapid ventricular response of about 145. T wave inversion in the inferolateral leads. ST segment elevation in leads VI-V3. Poor R wave progression in leads VI-V3 consisten\n",
      "\n",
      "Sinus rhythm Ventricular premature complex Atrial premature complexes Modest nonspecific intraventricular conduction delay Anteroseptal my\n",
      "\n",
      "Sinus rhythm with first degree A-V delay Left atrial abnormality Inferior infarct, age indeterminate - ST-T wave configuration suggests acute/recent/\n",
      "\n",
      "Sinus rhythm Lateral ST elevation of doubtful significance - repeat if\n",
      "\n",
      "PATIENT/TEST INFORMATION: Indication: Chronic lung disease. H/O cardiac surgery with distant CABG. Left ventricular function. Height: (in) 68 Weight (lb): 160 BSA (m2): 1.86 m2 BP (mm Hg): 97/47 HR (bpm): 62 Status: Inpatient Date/Time: [**2149-12-19**] at 11:04 Test: Portable TTE (Complete) Doppler: Full doppler and color doppler Contrast: None Technical Quality: Suboptimal   INTERPRETATION:  Findings:  Study continues from Tape [**2149**] W487 to tape [**2149**] W 509, starting at 0:15 for an additional seven minutes of recording. LEFT ATRIUM: Mild LA enlargement.  RIGHT ATRIUM/INTERATRIAL SEPTUM: Mildly dilated RA.  LEFT VENTRICLE: Normal LV cavity size. Suboptimal technical quality, a focal LV wall motion abnormality cannot be fully excluded. Depressed LVEF. Cannot assess LVEF.  RIGHT VENTRICLE:\n",
      "\n",
      "PATIENT/TEST INFORMATION: Indication: Pericardial effusion. Height: (in) 68 Weight (lb): 184 BSA (m2): 1.97 m2 BP (mm Hg): 140/80 HR (bpm): 70 Status: Inpatient Date/Time: [**2142-7-16**] at 10:20 Test: TTE (Focused views) Doppler: No doppler Contrast: None Technical Quality: Adequate   INTERPRETATION:  Findings:  LEFT ATRIUM: The left atrium is moderately dilated. The left atrium is elongated.  RIGHT ATRIUM/INTERATRIAL SEPTUM: The right atrium is moderately dilated.  LEFT VENTRICLE: There is severe symmetric left ventricular hypertrophy. The left ventricular cavity size is normal. Overall left ventricular systolic function is low normal (LVEF 50-55%).  LV WALL MOTION: The following resting regional left ventricular wall motion abnormalities are seen: basal inferoseptal - hypokinetic; mid inferoseptal - hypokinetic; basal inferior - hypokinetic; mid inferior - hypokinetic;  RIGHT VENTRICLE: The right ventricular free wall is hypertrophied. Right ventricular chamber size is normal. Right ventricular systolic function is normal.  AORTIC VALVE: The aortic valve leaflets (3) are mildly thickened.  MITRAL VALVE: The mitral valve leaflets are mildly thickened. There is mild mitral annular calcification.  TRICUSPID VALVE: Mild tricuspid [1+] regurgitation is seen. There is mild pulmonary artery\n",
      "\n",
      "PATIENT/TEST INFORMATION: Indication: Left ventricular function. Height: (in) 72 Weight (lb): 157 BSA (m2): 1.92 m2 BP (mm Hg): 92/44 Status: Inpatient Date/Time: [**2125-11-12**] at 12:10 Test: TTE (Complete) Doppler: Complete pulse and color flow Contrast: None Technical Quality: Suboptimal   INTERPRETATION:  Findings:  LEFT ATRIUM: The left atrium is mildly dilated.  RIGHT ATRIUM/INTERATRIAL SEPTUM: The right atrium is normal in size.  LEFT VENTRICLE: Left ventricular wall thicknesses are normal. The left ventricular cavity size is normal. Overall left ventricular systolic function is mildly depressed.  LV WALL MOTION: The following resting regional left ventricular wall motion abnormalities are seen: basal inferior - akinetic; mid inferior - akinetic; basal inferolateral - akinetic; mid inferolateral - akinetic;  RIGHT VENTRICLE: Right ventricular chamber size an\n",
      "\n",
      "Atrial fibrillation Demand ventricular pacing Ventricular premature \n",
      "\n",
      "Atrial tachycardia. Axis borderline leftward. Right bundle-branch block. Compared to the previous tracing of [**2179-2-3**\n",
      "\n"
     ]
    }
   ],
   "source": [
    "print('false positives:')\n",
    "for sentence in false_positive:\n",
    "    print(sentence)\n",
    "    print()\n",
    "\n",
    "print()\n",
    "\n",
    "print('false negatives:')\n",
    "for sentence in false_negative:\n",
    "    print(sentence)\n",
    "    print()"
   ]
  },
  {
   "cell_type": "markdown",
   "metadata": {},
   "source": [
    "### Synthetic DGP starts here."
   ]
  },
  {
   "cell_type": "code",
   "execution_count": 12,
   "metadata": {},
   "outputs": [
    {
     "name": "stdout",
     "output_type": "stream",
     "text": [
      "0.546263284778106\n"
     ]
    }
   ],
   "source": [
    "# generate A and Z as a function of U\n",
    "np.random.seed(1)\n",
    "\n",
    "size = len(semi_synthetic_data)\n",
    "\n",
    "C = np.random.normal(0, 1, size)\n",
    "\n",
    "A = np.random.binomial(1, expit(0.8*semi_synthetic_data['U']+C), size)\n",
    "\n",
    "print(np.mean(A))\n",
    "\n",
    "Y = np.random.normal(0, 1, size) + 1.3*A + 1.4*semi_synthetic_data['U'] + C\n",
    "\n",
    "semi_synthetic_data['A'] = A\n",
    "semi_synthetic_data['Y'] = Y\n",
    "semi_synthetic_data['C'] = C"
   ]
  },
  {
   "cell_type": "code",
   "execution_count": 13,
   "metadata": {},
   "outputs": [
    {
     "name": "stdout",
     "output_type": "stream",
     "text": [
      "19.611033833634597\n",
      "2.5434050794001957\n",
      "\n",
      "0.7233710230552443\n",
      "\n",
      "0.9878524260838915\n",
      "1.0166407944379683\n"
     ]
    }
   ],
   "source": [
    "print(odds_ratio('U', 'W', [], semi_synthetic_data))\n",
    "print(odds_ratio('U', 'Z', [], semi_synthetic_data))\n",
    "\n",
    "print()\n",
    "print(np.mean(semi_synthetic_data['W'] == semi_synthetic_data['Z']))\n",
    "print()\n",
    "\n",
    "print(odds_ratio('W', 'Z', ['U'], semi_synthetic_data))\n",
    "print(odds_ratio('W', 'Z', ['U', 'age', 'gender'], semi_synthetic_data))"
   ]
  },
  {
   "cell_type": "code",
   "execution_count": 14,
   "metadata": {},
   "outputs": [
    {
     "name": "stdout",
     "output_type": "stream",
     "text": [
      "1.2876868354257465\n",
      "(1.2658983503816448, 1.3084108578605342)\n"
     ]
    }
   ],
   "source": [
    "print(backdoor_adjustment('Y', 'A', ['U', 'C'], semi_synthetic_data))\n",
    "print(compute_confidence_intervals_backdoor('Y', 'A', ['U', 'C'], semi_synthetic_data, 'backdoor'))"
   ]
  },
  {
   "cell_type": "code",
   "execution_count": 15,
   "metadata": {},
   "outputs": [
    {
     "name": "stdout",
     "output_type": "stream",
     "text": [
      "1.3059454195741502\n",
      "(1.2300821583243922, 1.3658271766111074)\n"
     ]
    }
   ],
   "source": [
    "print(proximal_find_ace('A', 'Y', 'W', 'Z', ['C'], semi_synthetic_data))\n",
    "print(compute_confidence_intervals(\"A\", \"Y\", \"W\", \"Z\", ['C'], semi_synthetic_data))"
   ]
  },
  {
   "cell_type": "code",
   "execution_count": 36,
   "metadata": {},
   "outputs": [
    {
     "name": "stdout",
     "output_type": "stream",
     "text": [
      "1.179830478620565\n",
      "(1.038854003479516, 1.2786023058854925)\n"
     ]
    }
   ],
   "source": [
    "print(proximal_find_ace('A', 'Y', 'W', 'Z', ['age', 'gender'], semi_synthetic_data))\n",
    "print(compute_confidence_intervals(\"A\", \"Y\", \"W\", \"Z\", ['age', 'gender'], semi_synthetic_data))"
   ]
  },
  {
   "cell_type": "code",
   "execution_count": 24,
   "metadata": {},
   "outputs": [
    {
     "name": "stdout",
     "output_type": "stream",
     "text": [
      "1.540988774116704\n"
     ]
    },
    {
     "name": "stdout",
     "output_type": "stream",
     "text": [
      "(1.5152403034202575, 1.5640290262683836)\n"
     ]
    }
   ],
   "source": [
    "print(backdoor_adjustment('Y', 'A', [], semi_synthetic_data))\n",
    "print(compute_confidence_intervals_backdoor('Y', 'A', [], semi_synthetic_data, 'backdoor'))"
   ]
  },
  {
   "cell_type": "code",
   "execution_count": 10,
   "metadata": {},
   "outputs": [
    {
     "name": "stdout",
     "output_type": "stream",
     "text": [
      "0.5309836677871719\n"
     ]
    }
   ],
   "source": [
    "print(np.mean(semi_synthetic_data['W'] == semi_synthetic_data['Z']))"
   ]
  },
  {
   "cell_type": "code",
   "execution_count": 32,
   "metadata": {},
   "outputs": [
    {
     "name": "stdout",
     "output_type": "stream",
     "text": [
      "0.9859719562743827\n",
      "0.0\n",
      "0.5318568415892917\n"
     ]
    }
   ],
   "source": [
    "np.random.seed(0)\n",
    "\n",
    "size = 50000\n",
    "\n",
    "N = np.random.binomial(1, 0.5, size)\n",
    "L = np.random.binomial(1, expit(2*N), size)\n",
    "P = np.random.binomial(1, expit(1.5*N), size)\n",
    "\n",
    "test_df = pd.DataFrame({'N': N, 'L': L, 'P': P})\n",
    "\n",
    "print(odds_ratio('L', 'P', ['N'], test_df))"
   ]
  }
 ],
 "metadata": {
  "kernelspec": {
   "display_name": "base",
   "language": "python",
   "name": "python3"
  },
  "language_info": {
   "codemirror_mode": {
    "name": "ipython",
    "version": 3
   },
   "file_extension": ".py",
   "mimetype": "text/x-python",
   "name": "python",
   "nbconvert_exporter": "python",
   "pygments_lexer": "ipython3",
   "version": "3.10.9"
  },
  "orig_nbformat": 4
 },
 "nbformat": 4,
 "nbformat_minor": 2
}
