{
 "cells": [
  {
   "cell_type": "code",
   "execution_count": 6,
   "metadata": {},
   "outputs": [],
   "source": [
    "import pandas as pd\n",
    "import numpy as np\n",
    "from scipy.special import expit\n",
    "import statsmodels.api as sm\n",
    "import scipy.stats as stats\n",
    "from adjustment import *\n",
    "from fcit import fcit\n",
    "\n",
    "from proximal import *\n",
    "from regex_predictor import *\n",
    "from odds_ratio import *\n",
    "from backdoor import *\n",
    "from bag_of_words import *"
   ]
  },
  {
   "cell_type": "code",
   "execution_count": 8,
   "metadata": {},
   "outputs": [
    {
     "name": "stdout",
     "output_type": "stream",
     "text": [
      "0.4995076567858477\n",
      "0.4978778309734814\n",
      "{'tn': 10648, 'fp': 10600, 'fn': 4140, 'tp': 4063, 'sensitivity': 0.49530659514811654, 'specificity': 0.5011295180722891, 'precision': 0.27709200027279546, 'recall': 0.49530659514811654}\n",
      "\n",
      "0.4989983362194832\n",
      "0.5015109843468812\n",
      "{'tn': 10587, 'fp': 10661, 'fn': 4094, 'tp': 4109, 'sensitivity': 0.5009142996464708, 'specificity': 0.4982586596385542, 'precision': 0.2781990521327014, 'recall': 0.5009142996464708}\n"
     ]
    }
   ],
   "source": [
    "master_data = pd.read_csv('csv_files/master_data.csv')\n",
    "zero_shot_preds = np.random.binomial(1, 0.5, len(master_data))\n",
    "regex_preds = np.random.binomial(1, 0.5, len(master_data))\n",
    "\n",
    "print(np.mean(master_data['afib'] == zero_shot_preds))\n",
    "print(np.mean(zero_shot_preds))\n",
    "print(create_confusion_matrix(master_data['afib'], zero_shot_preds))\n",
    "print()\n",
    "\n",
    "print(np.mean(master_data['afib'] == regex_preds))\n",
    "print(np.mean(regex_preds))\n",
    "print(create_confusion_matrix(master_data['afib'], regex_preds))"
   ]
  },
  {
   "cell_type": "code",
   "execution_count": 9,
   "metadata": {},
   "outputs": [],
   "source": [
    "semi_synthetic_data = pd.DataFrame({'U': master_data['heart_fail'], 'W': zero_shot_preds, 'Z': regex_preds,\n",
    "                                    'age': master_data['age'], 'gender': master_data['gender']})"
   ]
  },
  {
   "cell_type": "code",
   "execution_count": 10,
   "metadata": {},
   "outputs": [
    {
     "name": "stdout",
     "output_type": "stream",
     "text": [
      "0.5373331975145156\n"
     ]
    }
   ],
   "source": [
    "# generate A and Z as a function of U\n",
    "np.random.seed(3)\n",
    "\n",
    "size = len(semi_synthetic_data)\n",
    "\n",
    "C = np.random.normal(0, 1, size)\n",
    "\n",
    "A = np.random.binomial(1, expit(0.8*semi_synthetic_data['U']+C), size)\n",
    "\n",
    "print(np.mean(A))\n",
    "\n",
    "Y = np.random.normal(0, 1, size) + 1.3*A + 1.4*semi_synthetic_data['U'] + C\n",
    "\n",
    "semi_synthetic_data['A'] = A\n",
    "semi_synthetic_data['Y'] = Y\n",
    "semi_synthetic_data['C'] = C"
   ]
  },
  {
   "cell_type": "code",
   "execution_count": 11,
   "metadata": {},
   "outputs": [
    {
     "name": "stdout",
     "output_type": "stream",
     "text": [
      "0.9599422733442343\n",
      "0.9842254960121284\n",
      "\n",
      "0.5011035278937896\n",
      "\n",
      "1.0087927085749555\n",
      "1.0089570997266029\n"
     ]
    }
   ],
   "source": [
    "print(odds_ratio('U', 'W', [], semi_synthetic_data))\n",
    "print(odds_ratio('U', 'Z', [], semi_synthetic_data))\n",
    "\n",
    "print()\n",
    "print(np.mean(semi_synthetic_data['W'] == semi_synthetic_data['Z']))\n",
    "print()\n",
    "\n",
    "print(odds_ratio('W', 'Z', ['U'], semi_synthetic_data))\n",
    "print(odds_ratio('W', 'Z', ['U', 'age', 'gender'], semi_synthetic_data))"
   ]
  },
  {
   "cell_type": "code",
   "execution_count": 12,
   "metadata": {},
   "outputs": [
    {
     "name": "stdout",
     "output_type": "stream",
     "text": [
      "1.5074944213016388\n",
      "(1.4177832999061781, 1.7466150623656154)\n"
     ]
    }
   ],
   "source": [
    "print(proximal_find_ace('A', 'Y', 'W', 'Z', ['C'], semi_synthetic_data))\n",
    "print(compute_confidence_intervals(\"A\", \"Y\", \"W\", \"Z\", ['C'], semi_synthetic_data))"
   ]
  }
 ],
 "metadata": {
  "kernelspec": {
   "display_name": "base",
   "language": "python",
   "name": "python3"
  },
  "language_info": {
   "codemirror_mode": {
    "name": "ipython",
    "version": 3
   },
   "file_extension": ".py",
   "mimetype": "text/x-python",
   "name": "python",
   "nbconvert_exporter": "python",
   "pygments_lexer": "ipython3",
   "version": "3.10.9"
  },
  "orig_nbformat": 4
 },
 "nbformat": 4,
 "nbformat_minor": 2
}
