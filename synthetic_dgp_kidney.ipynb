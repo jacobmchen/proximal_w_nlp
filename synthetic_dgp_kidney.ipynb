{
 "cells": [
  {
   "cell_type": "markdown",
   "metadata": {},
   "source": [
    "### Code creating a synthetic DGP using acute kidney failure and prediction data from zero-shot classifier and regex matching."
   ]
  },
  {
   "cell_type": "code",
   "execution_count": 1,
   "metadata": {},
   "outputs": [],
   "source": [
    "import pandas as pd\n",
    "import numpy as np\n",
    "from scipy.special import expit\n",
    "import statsmodels.api as sm\n",
    "import scipy.stats as stats\n",
    "from adjustment import *\n",
    "from fcit import fcit\n",
    "\n",
    "from proximal import *\n",
    "from regex_predictor import *\n",
    "from odds_ratio import *\n",
    "from backdoor import *\n",
    "from bag_of_words import *"
   ]
  },
  {
   "cell_type": "code",
   "execution_count": 49,
   "metadata": {},
   "outputs": [
    {
     "name": "stdout",
     "output_type": "stream",
     "text": [
      "0.7777664595429696\n",
      "0.048623136735594714\n",
      "{'tn': 22456, 'fp': 982, 'fn': 5563, 'tp': 450, 'sensitivity': 0.07483785132213537, 'specificity': 0.9581022271524874, 'precision': 0.31424581005586594, 'recall': 0.07483785132213537}\n",
      "\n",
      "0.7940647176666327\n",
      "0.00909986078571186\n",
      "{'tn': 23278, 'fp': 160, 'fn': 5905, 'tp': 108, 'sensitivity': 0.01796108431731249, 'specificity': 0.993173478965782, 'precision': 0.40298507462686567, 'recall': 0.01796108431731249}\n"
     ]
    }
   ],
   "source": [
    "master_data = pd.read_csv('csv_files/master_data.csv')\n",
    "\n",
    "zero_shot_preds = pd.read_csv('csv_files/predictions-xxl-acutekidneyfailure-sentence.csv')\n",
    "\n",
    "# rhythm, not correlated enough with kidney failure\n",
    "# rhythm, flat, abscess, abcess\n",
    "# abscess, abcess\n",
    "regex_preds = regular_expression_predict(master_data['notes_half2'], ['absces', 'abces'])\n",
    "\n",
    "print(np.mean(master_data['kidney_fail'] == zero_shot_preds['prediction']))\n",
    "print(np.mean(zero_shot_preds['prediction']))\n",
    "print(create_confusion_matrix(master_data['kidney_fail'], zero_shot_preds['prediction']))\n",
    "print()\n",
    "\n",
    "print(np.mean(master_data['kidney_fail'] == regex_preds))\n",
    "print(np.mean(regex_preds))\n",
    "print(create_confusion_matrix(master_data['kidney_fail'], regex_preds))"
   ]
  },
  {
   "cell_type": "code",
   "execution_count": 50,
   "metadata": {},
   "outputs": [],
   "source": [
    "semi_synthetic_data = pd.DataFrame({'U': master_data['kidney_fail'], 'W': zero_shot_preds['prediction'], 'Z': regex_preds,\n",
    "                                    'age': master_data['age'], 'gender': master_data['gender']})"
   ]
  },
  {
   "cell_type": "code",
   "execution_count": 51,
   "metadata": {},
   "outputs": [
    {
     "name": "stdout",
     "output_type": "stream",
     "text": [
      "1.849798256081056\n",
      "2.6609060118536405\n",
      "\n",
      "0.943363553020271\n",
      "\n",
      "1.0890150753080436\n",
      "1.1796050454689975\n"
     ]
    }
   ],
   "source": [
    "print(odds_ratio('U', 'W', [], semi_synthetic_data))\n",
    "print(odds_ratio('U', 'Z', [], semi_synthetic_data))\n",
    "\n",
    "print()\n",
    "print(np.mean(semi_synthetic_data['W'] == semi_synthetic_data['Z']))\n",
    "print()\n",
    "\n",
    "print(odds_ratio('W', 'Z', ['U'], semi_synthetic_data))\n",
    "print(odds_ratio('W', 'Z', ['U', 'age', 'gender'], semi_synthetic_data))"
   ]
  },
  {
   "cell_type": "code",
   "execution_count": 74,
   "metadata": {},
   "outputs": [
    {
     "name": "stdout",
     "output_type": "stream",
     "text": [
      "0.5341414552986317\n"
     ]
    }
   ],
   "source": [
    "# 9\n",
    "# generate A and Z as a function of U\n",
    "np.random.seed(9)\n",
    "\n",
    "size = len(semi_synthetic_data)\n",
    "\n",
    "C = np.random.normal(0, 1, size)\n",
    "\n",
    "A = np.random.binomial(1, expit(0.8*semi_synthetic_data['U']+C), size)\n",
    "\n",
    "print(np.mean(A))\n",
    "\n",
    "Y = np.random.normal(0, 1, size) + 1.3*A + 1.4*semi_synthetic_data['U'] + C\n",
    "\n",
    "semi_synthetic_data['A'] = A\n",
    "semi_synthetic_data['Y'] = Y\n",
    "semi_synthetic_data['C'] = C"
   ]
  },
  {
   "cell_type": "code",
   "execution_count": 75,
   "metadata": {},
   "outputs": [
    {
     "name": "stdout",
     "output_type": "stream",
     "text": [
      "1.319135521760253\n",
      "(0.6837850403613688, 2.3814183032698906)\n"
     ]
    }
   ],
   "source": [
    "print(proximal_find_ace('A', 'Y', 'W', 'Z', ['C'], semi_synthetic_data))\n",
    "print(compute_confidence_intervals(\"A\", \"Y\", \"W\", \"Z\", ['C'], semi_synthetic_data))"
   ]
  }
 ],
 "metadata": {
  "kernelspec": {
   "display_name": "base",
   "language": "python",
   "name": "python3"
  },
  "language_info": {
   "codemirror_mode": {
    "name": "ipython",
    "version": 3
   },
   "file_extension": ".py",
   "mimetype": "text/x-python",
   "name": "python",
   "nbconvert_exporter": "python",
   "pygments_lexer": "ipython3",
   "version": "3.10.9"
  },
  "orig_nbformat": 4
 },
 "nbformat": 4,
 "nbformat_minor": 2
}
