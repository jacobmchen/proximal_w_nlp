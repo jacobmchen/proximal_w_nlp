{
 "cells": [
  {
   "cell_type": "markdown",
   "metadata": {},
   "source": [
    "### Code creating a synthetic DGP using acute kidney failure and prediction data from zero-shot classifier and regex matching."
   ]
  },
  {
   "cell_type": "code",
   "execution_count": 1,
   "metadata": {},
   "outputs": [],
   "source": [
    "import pandas as pd\n",
    "import numpy as np\n",
    "from scipy.special import expit\n",
    "import statsmodels.api as sm\n",
    "import scipy.stats as stats\n",
    "from adjustment import *\n",
    "from fcit import fcit\n",
    "import pickle\n",
    "\n",
    "from proximal import *\n",
    "from regex_predictor import *\n",
    "from odds_ratio import *\n",
    "from backdoor import *\n",
    "from bag_of_words import *\n",
    "from cohens_kappa import *"
   ]
  },
  {
   "cell_type": "code",
   "execution_count": 2,
   "metadata": {},
   "outputs": [
    {
     "name": "stdout",
     "output_type": "stream",
     "text": [
      "0.7952870870259074\n",
      "0.0014940069946691114\n",
      "{'tn': 23408, 'fp': 30, 'fn': 5999, 'tp': 14, 'sensitivity': 0.002328288707799767, 'specificity': 0.9987200273060841, 'precision': 0.3181818181818182, 'recall': 0.002328288707799767}\n",
      "\n",
      "0.7949135852772402\n",
      "0.0013242334725476214\n",
      "{'tn': 23405, 'fp': 33, 'fn': 6007, 'tp': 6, 'sensitivity': 0.0009978380176284716, 'specificity': 0.9985920300366925, 'precision': 0.15384615384615385, 'recall': 0.0009978380176284716}\n"
     ]
    }
   ],
   "source": [
    "master_data = pd.read_csv('csv_files/master_data.csv')\n",
    "\n",
    "zero_shot_preds = pd.read_csv('csv_files/predictions-xxl-acutekidneyfailure-document.csv')\n",
    "\n",
    "# rhythm, not correlated enough with kidney failure\n",
    "# rhythm, flat, abscess, abcess\n",
    "# abscess, abcess\n",
    "regex_preds = regular_expression_predict(master_data['notes_half2'], ['liver'])\n",
    "\n",
    "print(np.mean(master_data['kidney_fail'] == zero_shot_preds['prediction']))\n",
    "print(np.mean(zero_shot_preds['prediction']))\n",
    "print(create_confusion_matrix(master_data['kidney_fail'], zero_shot_preds['prediction']))\n",
    "print()\n",
    "\n",
    "print(np.mean(master_data['kidney_fail'] == regex_preds))\n",
    "print(np.mean(regex_preds))\n",
    "print(create_confusion_matrix(master_data['kidney_fail'], regex_preds))"
   ]
  },
  {
   "cell_type": "code",
   "execution_count": 3,
   "metadata": {},
   "outputs": [],
   "source": [
    "semi_synthetic_data = pd.DataFrame({'U': master_data['kidney_fail'], 'W': zero_shot_preds['prediction'], 'Z': regex_preds,\n",
    "                                    'age': master_data['age'], 'gender': master_data['gender']})"
   ]
  },
  {
   "cell_type": "code",
   "execution_count": 4,
   "metadata": {},
   "outputs": [
    {
     "name": "stdout",
     "output_type": "stream",
     "text": [
      "1.820925709840825\n",
      "0.7084159389800483\n",
      "\n",
      "0.9971817595327833\n",
      "-0.0014059805792845281\n",
      "\n",
      "4.057584218944586e-08\n",
      "3.022969494491038e-08\n"
     ]
    }
   ],
   "source": [
    "print(odds_ratio('U', 'W', [], semi_synthetic_data))\n",
    "print(odds_ratio('U', 'Z', [], semi_synthetic_data))\n",
    "\n",
    "print()\n",
    "print(np.mean(semi_synthetic_data['W'] == semi_synthetic_data['Z']))\n",
    "print(cohens_kappa(semi_synthetic_data['W'], semi_synthetic_data['Z']))\n",
    "print()\n",
    "\n",
    "print(odds_ratio('W', 'Z', ['U'], semi_synthetic_data))\n",
    "print(odds_ratio('W', 'Z', ['U', 'age', 'gender'], semi_synthetic_data))"
   ]
  },
  {
   "cell_type": "code",
   "execution_count": 5,
   "metadata": {},
   "outputs": [
    {
     "name": "stdout",
     "output_type": "stream",
     "text": [
      "76.41380598281891\n",
      "56.78193469093504\n",
      "0.5104071169060473\n"
     ]
    }
   ],
   "source": [
    "# generate A and Z as a function of U\n",
    "np.random.seed(1)\n",
    "\n",
    "size = len(semi_synthetic_data)\n",
    "\n",
    "print(np.mean(semi_synthetic_data['age']))\n",
    "print(np.std(semi_synthetic_data['age']))\n",
    "\n",
    "C = np.random.normal(76.4, 56.8, size)\n",
    "\n",
    "A = np.random.binomial(1, expit(0.8*semi_synthetic_data['U'] + 0.8*semi_synthetic_data['gender'] + 0.8*(semi_synthetic_data['age'] - 67)), size)\n",
    "\n",
    "print(np.mean(A))\n",
    "\n",
    "Y = np.random.normal(0, 1, size) + 1.3*A + 1.4*semi_synthetic_data['U'] + 0.8*semi_synthetic_data['gender'] + 0.5*semi_synthetic_data['age']\n",
    "\n",
    "semi_synthetic_data['A'] = A\n",
    "semi_synthetic_data['Y'] = Y\n",
    "semi_synthetic_data['C'] = C"
   ]
  },
  {
   "cell_type": "markdown",
   "metadata": {},
   "source": [
    "### Use proximal with two proxies that are just random chance."
   ]
  },
  {
   "cell_type": "code",
   "execution_count": 6,
   "metadata": {},
   "outputs": [],
   "source": [
    "np.random.seed(2)\n",
    "\n",
    "random_classifier1 = np.random.binomial(1, 0.5, len(semi_synthetic_data))\n",
    "\n",
    "random_classifier2 = np.random.binomial(1, 0.5, len(semi_synthetic_data))\n",
    "\n",
    "semi_synthetic_data['R1'] = random_classifier1\n",
    "semi_synthetic_data['R2'] = random_classifier2\n",
    "\n",
    "ace = proximal_find_ace('A', 'Y', 'R1', 'R2', ['age', 'gender'], semi_synthetic_data)\n",
    "conf_int = compute_confidence_intervals('A', 'Y', 'R1', 'R2', ['age', 'gender'], semi_synthetic_data)\n",
    "\n",
    "with open('pickle_files/kidney_baseline.pkl', 'wb') as file:\n",
    "    pickle.dump((ace, conf_int[0], conf_int[1]), file)"
   ]
  },
  {
   "cell_type": "markdown",
   "metadata": {},
   "source": [
    "### Use backdoor with Flan-T5 as predictions"
   ]
  },
  {
   "cell_type": "code",
   "execution_count": 7,
   "metadata": {},
   "outputs": [],
   "source": [
    "ace = backdoor_adjustment('Y', 'A', ['W', 'age', 'gender'], semi_synthetic_data)\n",
    "conf_int = compute_confidence_intervals_backdoor('Y', 'A', ['W', 'age', 'gender'], semi_synthetic_data, 'backdoor')\n",
    "\n",
    "with open('pickle_files/kidney_backdoor.pkl', 'wb') as file:\n",
    "    pickle.dump((ace, conf_int[0], conf_int[1]), file)"
   ]
  },
  {
   "cell_type": "markdown",
   "metadata": {},
   "source": [
    "### Use proximal with Flan-T5 and Lexicon predictions."
   ]
  },
  {
   "cell_type": "code",
   "execution_count": 8,
   "metadata": {},
   "outputs": [],
   "source": [
    "ace = proximal_find_ace('A', 'Y', 'W', 'Z', ['age', 'gender'], semi_synthetic_data)\n",
    "conf_int = compute_confidence_intervals(\"A\", \"Y\", \"W\", \"Z\", ['age', 'gender'], semi_synthetic_data)\n",
    "\n",
    "with open('pickle_files/kidney_proximal.pkl', 'wb') as file:\n",
    "    pickle.dump((ace, conf_int[0], conf_int[1]), file)"
   ]
  }
 ],
 "metadata": {
  "kernelspec": {
   "display_name": "base",
   "language": "python",
   "name": "python3"
  },
  "language_info": {
   "codemirror_mode": {
    "name": "ipython",
    "version": 3
   },
   "file_extension": ".py",
   "mimetype": "text/x-python",
   "name": "python",
   "nbconvert_exporter": "python",
   "pygments_lexer": "ipython3",
   "version": "3.10.9"
  },
  "orig_nbformat": 4
 },
 "nbformat": 4,
 "nbformat_minor": 2
}
