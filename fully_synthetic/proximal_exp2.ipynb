{
 "cells": [
  {
   "cell_type": "markdown",
   "metadata": {},
   "source": [
    "# Proximal Causal Inference Synthetic Simulations \\#2\n",
    "\n",
    "In this set of experiments, we attempt to simulate text-based proximal causal inference when two pieces of text data are independent and representative of the underlying distribution of text data. Below are the steps of the experiment:\n",
    "\n",
    "1. Make a training dataset DTrain. For each row of data in DTrain, generate two realizations of X1, X2, X3, and X4. \n",
    "2. Generate X = [mean(X11, X12), mean(X21, X22), mean(X31, X32), mean(X41, X42)]. Train a single linear logistic regression on this data to predict U. This simulates training a zero-shot classifier on some broad background/training data.\n",
    "3. Make a dataset that simulates inference time DInference. For each row of data, generate two realizations of X1, X2, X3, and X4. These two realizations of X1 through X4 are independent by definition.\n",
    "4. Apply the previously trained 'zero-shot model' to obtain Z and W from the two realizations of X1, X2, X3, and X4.\n",
    "5. Proceed with proximal pipeline as usual."
   ]
  },
  {
   "cell_type": "code",
   "execution_count": 65,
   "metadata": {},
   "outputs": [],
   "source": [
    "import pandas as pd\n",
    "import numpy as np\n",
    "from scipy.special import expit\n",
    "import statsmodels.api as sm\n",
    "\n",
    "np.random.seed(0)\n",
    "size = 20000"
   ]
  },
  {
   "cell_type": "markdown",
   "metadata": {},
   "source": [
    "Code implementing future helper functions."
   ]
  },
  {
   "cell_type": "code",
   "execution_count": 66,
   "metadata": {},
   "outputs": [],
   "source": [
    "def binary_predictions(a):\n",
    "    # takes array a of probabilities, and returns a prediction for 0s and 1s\n",
    "    output = []\n",
    "\n",
    "    for ele in a:\n",
    "        if ele < 0.5:\n",
    "            output.append(0)\n",
    "        else:\n",
    "            output.append(1)\n",
    "\n",
    "    # output = np.random.binomial(1, a, len(a))\n",
    "\n",
    "    return output\n",
    "\n",
    "def proximal_find_ace(A, Y, W, Z, covariates, data):\n",
    "    # fit a model W~A+Z\n",
    "    formula = W+\"~\"+A+\"+\"+Z\n",
    "    if len(covariates) > 0:\n",
    "        formula += '+' + '+'.join(covariates)\n",
    "    model1 = sm.GLM.from_formula(formula=formula, data=data, family=sm.families.Binomial()).fit()\n",
    "\n",
    "    # make predictions for What\n",
    "    What = model1.predict(data)\n",
    "    data[\"What\"] = What\n",
    "\n",
    "    # fit a model Y~A+What\n",
    "    formula = Y+\"~\"+A+\"+What\"\n",
    "    if len(covariates) > 0:\n",
    "        formula += '+' + '+'.join(covariates)\n",
    "    model2 = sm.GLM.from_formula(formula=formula, data=data, family=sm.families.Gaussian()).fit()\n",
    "\n",
    "    # the ACE is the coefficient for A in model2\n",
    "    return model2.params[A]\n",
    "\n",
    "def compute_confidence_intervals(A, Y, W, Z, covariates, data, num_bootstraps=200, alpha=0.05):\n",
    "    \"\"\"\n",
    "    Compute confidence intervals for backdoor adjustment via bootstrap\n",
    "    \n",
    "    Returns tuple (q_low, q_up) for the lower and upper quantiles of the confidence interval.\n",
    "    \"\"\"\n",
    "    \n",
    "    Ql = alpha/2\n",
    "    Qu = 1 - alpha/2\n",
    "    # two lists for the two indexes of output\n",
    "    estimates = []\n",
    "    \n",
    "    for i in range(num_bootstraps):\n",
    "        \n",
    "        # resample the data with replacement\n",
    "        data_sampled = data.sample(len(data), replace=True)\n",
    "        data_sampled.reset_index(drop=True, inplace=True)\n",
    "        \n",
    "        # add estimate from resampled data\n",
    "        output = proximal_find_ace(A, Y, W, Z, covariates, data_sampled)\n",
    "        estimates.append(output)\n",
    "\n",
    "    # calculate the quantiles\n",
    "    quantiles = np.quantile(estimates, q=[Ql, Qu])\n",
    "    q_low = quantiles[0]\n",
    "    q_up = quantiles[1]\n",
    "    \n",
    "    return (q_low, q_up)\n",
    "\n",
    "def odds_ratio(X, Y, Z, data):\n",
    "    # calculate the odds ratio assuming linearity\n",
    "\n",
    "    formula = X + '~1+' + Y\n",
    "    if len(Z) > 0:\n",
    "        formula += '+' + '+'.join(Z)\n",
    "\n",
    "    model = sm.GLM.from_formula(formula=formula, data=data, family=sm.families.Binomial()).fit()\n",
    "\n",
    "    return np.exp(model.params[Y])"
   ]
  },
  {
   "cell_type": "markdown",
   "metadata": {},
   "source": [
    "Define the data generating process."
   ]
  },
  {
   "cell_type": "code",
   "execution_count": 114,
   "metadata": {},
   "outputs": [],
   "source": [
    "def generate_data():\n",
    "    U = np.random.binomial(1, 0.48, size)\n",
    "\n",
    "    # create a baseline confounder\n",
    "    C = np.random.normal(0, 1, size)\n",
    "    C_coefficient = 1\n",
    "\n",
    "    X11 = np.random.normal(0, 1, size) + 2*U + C_coefficient*C\n",
    "    X12 = np.random.normal(0, 1, size) + 2*U + C_coefficient*C\n",
    "\n",
    "    # make sure that X2 is some non-linear function\n",
    "    X21 = np.random.normal(0, 1, size) + np.exp(X11) + U + C_coefficient*C\n",
    "    X22 = np.random.normal(0, 1, size) + np.exp(X12) + U + C_coefficient*C\n",
    "\n",
    "    X31 = np.random.normal(0, 1, size) + 1.3*U + C_coefficient*C\n",
    "    X32 = np.random.normal(0, 1, size) + 1.3*U + C_coefficient*C\n",
    "\n",
    "    # make sure that X4 is some non-linear function\n",
    "    X41 = np.random.normal(0, 1, size) + X31**2 + 0.5*X31**3 + U + C_coefficient*C\n",
    "    X42 = np.random.normal(0, 1, size) + X32**2 + 0.5*X32**3 + U + C_coefficient*C\n",
    "\n",
    "    A = np.random.binomial(1, expit(0.8*U+C-0.3), size)\n",
    "\n",
    "    Y = np.random.normal(0, 1, size) + 1.3*A + 1.4*U + 1.2*C\n",
    "\n",
    "    data = pd.DataFrame({\"U\": U, \"X11\": X11, \"X21\": X21, \"X31\": X31, \"X41\": X41, \"X12\": X12, \"X22\": X22, \"X32\": X32, \"X42\": X42,\n",
    "                         \"A\": A, \"Y\": Y, \"C\": C})\n",
    "\n",
    "    return data"
   ]
  },
  {
   "cell_type": "markdown",
   "metadata": {},
   "source": [
    "Generate training dataset."
   ]
  },
  {
   "cell_type": "code",
   "execution_count": 115,
   "metadata": {},
   "outputs": [],
   "source": [
    "Dtrain = generate_data()\n",
    "\n",
    "# simulate the creation of a 'broad zero-shot predictor'\n",
    "Dtrain['X1'] = (Dtrain['X11']+Dtrain['X12'])/2\n",
    "Dtrain['X2'] = (Dtrain['X21']+Dtrain['X22'])/2\n",
    "Dtrain['X3'] = (Dtrain['X31']+Dtrain['X32'])/2\n",
    "Dtrain['X4'] = (Dtrain['X41']+Dtrain['X42'])/2"
   ]
  },
  {
   "cell_type": "markdown",
   "metadata": {},
   "source": [
    "Train a linear logistic regressor to simulate a zero-shot classifier."
   ]
  },
  {
   "cell_type": "code",
   "execution_count": 116,
   "metadata": {},
   "outputs": [
    {
     "data": {
      "text/html": [
       "<table class=\"simpletable\">\n",
       "<caption>Generalized Linear Model Regression Results</caption>\n",
       "<tr>\n",
       "  <th>Dep. Variable:</th>           <td>U</td>        <th>  No. Observations:  </th>  <td> 20000</td> \n",
       "</tr>\n",
       "<tr>\n",
       "  <th>Model:</th>                  <td>GLM</td>       <th>  Df Residuals:      </th>  <td> 19995</td> \n",
       "</tr>\n",
       "<tr>\n",
       "  <th>Model Family:</th>        <td>Binomial</td>     <th>  Df Model:          </th>  <td>     4</td> \n",
       "</tr>\n",
       "<tr>\n",
       "  <th>Link Function:</th>         <td>Logit</td>      <th>  Scale:             </th> <td>  1.0000</td>\n",
       "</tr>\n",
       "<tr>\n",
       "  <th>Method:</th>                <td>IRLS</td>       <th>  Log-Likelihood:    </th> <td> -8760.1</td>\n",
       "</tr>\n",
       "<tr>\n",
       "  <th>Date:</th>            <td>Fri, 29 Dec 2023</td> <th>  Deviance:          </th> <td>  17520.</td>\n",
       "</tr>\n",
       "<tr>\n",
       "  <th>Time:</th>                <td>20:10:18</td>     <th>  Pearson chi2:      </th> <td>1.96e+04</td>\n",
       "</tr>\n",
       "<tr>\n",
       "  <th>No. Iterations:</th>          <td>7</td>        <th>  Pseudo R-squ. (CS):</th>  <td>0.3980</td> \n",
       "</tr>\n",
       "<tr>\n",
       "  <th>Covariance Type:</th>     <td>nonrobust</td>    <th>                     </th>     <td> </td>   \n",
       "</tr>\n",
       "</table>\n",
       "<table class=\"simpletable\">\n",
       "<tr>\n",
       "      <td></td>         <th>coef</th>     <th>std err</th>      <th>z</th>      <th>P>|z|</th>  <th>[0.025</th>    <th>0.975]</th>  \n",
       "</tr>\n",
       "<tr>\n",
       "  <th>Intercept</th> <td>   -1.4082</td> <td>    0.027</td> <td>  -52.077</td> <td> 0.000</td> <td>   -1.461</td> <td>   -1.355</td>\n",
       "</tr>\n",
       "<tr>\n",
       "  <th>X1</th>        <td>    1.3874</td> <td>    0.027</td> <td>   51.514</td> <td> 0.000</td> <td>    1.335</td> <td>    1.440</td>\n",
       "</tr>\n",
       "<tr>\n",
       "  <th>X2</th>        <td>   -0.0026</td> <td>    0.002</td> <td>   -1.307</td> <td> 0.191</td> <td>   -0.007</td> <td>    0.001</td>\n",
       "</tr>\n",
       "<tr>\n",
       "  <th>X3</th>        <td>    0.0428</td> <td>    0.029</td> <td>    1.479</td> <td> 0.139</td> <td>   -0.014</td> <td>    0.099</td>\n",
       "</tr>\n",
       "<tr>\n",
       "  <th>X4</th>        <td>   -0.0153</td> <td>    0.004</td> <td>   -3.922</td> <td> 0.000</td> <td>   -0.023</td> <td>   -0.008</td>\n",
       "</tr>\n",
       "</table>"
      ],
      "text/latex": [
       "\\begin{center}\n",
       "\\begin{tabular}{lclc}\n",
       "\\toprule\n",
       "\\textbf{Dep. Variable:}   &        U         & \\textbf{  No. Observations:  } &    20000    \\\\\n",
       "\\textbf{Model:}           &       GLM        & \\textbf{  Df Residuals:      } &    19995    \\\\\n",
       "\\textbf{Model Family:}    &     Binomial     & \\textbf{  Df Model:          } &        4    \\\\\n",
       "\\textbf{Link Function:}   &      Logit       & \\textbf{  Scale:             } &    1.0000   \\\\\n",
       "\\textbf{Method:}          &       IRLS       & \\textbf{  Log-Likelihood:    } &   -8760.1   \\\\\n",
       "\\textbf{Date:}            & Fri, 29 Dec 2023 & \\textbf{  Deviance:          } &    17520.   \\\\\n",
       "\\textbf{Time:}            &     20:10:18     & \\textbf{  Pearson chi2:      } &  1.96e+04   \\\\\n",
       "\\textbf{No. Iterations:}  &        7         & \\textbf{  Pseudo R-squ. (CS):} &   0.3980    \\\\\n",
       "\\textbf{Covariance Type:} &    nonrobust     & \\textbf{                     } &             \\\\\n",
       "\\bottomrule\n",
       "\\end{tabular}\n",
       "\\begin{tabular}{lcccccc}\n",
       "                   & \\textbf{coef} & \\textbf{std err} & \\textbf{z} & \\textbf{P$> |$z$|$} & \\textbf{[0.025} & \\textbf{0.975]}  \\\\\n",
       "\\midrule\n",
       "\\textbf{Intercept} &      -1.4082  &        0.027     &   -52.077  &         0.000        &       -1.461    &       -1.355     \\\\\n",
       "\\textbf{X1}        &       1.3874  &        0.027     &    51.514  &         0.000        &        1.335    &        1.440     \\\\\n",
       "\\textbf{X2}        &      -0.0026  &        0.002     &    -1.307  &         0.191        &       -0.007    &        0.001     \\\\\n",
       "\\textbf{X3}        &       0.0428  &        0.029     &     1.479  &         0.139        &       -0.014    &        0.099     \\\\\n",
       "\\textbf{X4}        &      -0.0153  &        0.004     &    -3.922  &         0.000        &       -0.023    &       -0.008     \\\\\n",
       "\\bottomrule\n",
       "\\end{tabular}\n",
       "%\\caption{Generalized Linear Model Regression Results}\n",
       "\\end{center}"
      ],
      "text/plain": [
       "<class 'statsmodels.iolib.summary.Summary'>\n",
       "\"\"\"\n",
       "                 Generalized Linear Model Regression Results                  \n",
       "==============================================================================\n",
       "Dep. Variable:                      U   No. Observations:                20000\n",
       "Model:                            GLM   Df Residuals:                    19995\n",
       "Model Family:                Binomial   Df Model:                            4\n",
       "Link Function:                  Logit   Scale:                          1.0000\n",
       "Method:                          IRLS   Log-Likelihood:                -8760.1\n",
       "Date:                Fri, 29 Dec 2023   Deviance:                       17520.\n",
       "Time:                        20:10:18   Pearson chi2:                 1.96e+04\n",
       "No. Iterations:                     7   Pseudo R-squ. (CS):             0.3980\n",
       "Covariance Type:            nonrobust                                         \n",
       "==============================================================================\n",
       "                 coef    std err          z      P>|z|      [0.025      0.975]\n",
       "------------------------------------------------------------------------------\n",
       "Intercept     -1.4082      0.027    -52.077      0.000      -1.461      -1.355\n",
       "X1             1.3874      0.027     51.514      0.000       1.335       1.440\n",
       "X2            -0.0026      0.002     -1.307      0.191      -0.007       0.001\n",
       "X3             0.0428      0.029      1.479      0.139      -0.014       0.099\n",
       "X4            -0.0153      0.004     -3.922      0.000      -0.023      -0.008\n",
       "==============================================================================\n",
       "\"\"\""
      ]
     },
     "execution_count": 116,
     "metadata": {},
     "output_type": "execute_result"
    }
   ],
   "source": [
    "zero_shot_model = sm.GLM.from_formula(formula=\"U~X1+X2+X3+X4\", data=Dtrain, family=sm.families.Binomial()).fit()\n",
    "\n",
    "zero_shot_model.summary()"
   ]
  },
  {
   "cell_type": "markdown",
   "metadata": {},
   "source": [
    "Generate the inference dataset, and generate Z and W by using the two realizations of the covariates."
   ]
  },
  {
   "cell_type": "code",
   "execution_count": 117,
   "metadata": {},
   "outputs": [],
   "source": [
    "DInference = generate_data()\n",
    "\n",
    "# create the two realizations of the covariates to generate Z and W\n",
    "realization1 = pd.DataFrame()\n",
    "realization1['X1'] = DInference['X11']\n",
    "realization1['X2'] = DInference['X21']\n",
    "realization1['X3'] = DInference['X31']\n",
    "realization1['X4'] = DInference['X41']\n",
    "\n",
    "W = binary_predictions(zero_shot_model.predict(realization1))\n",
    "\n",
    "realization2 = pd.DataFrame()\n",
    "realization2['X1'] = DInference['X12']\n",
    "realization2['X2'] = DInference['X22']\n",
    "realization2['X3'] = DInference['X32']\n",
    "realization2['X4'] = DInference['X42']\n",
    "\n",
    "Z = binary_predictions(zero_shot_model.predict(realization2))\n",
    "\n",
    "DInference['Z'] = Z\n",
    "DInference['W'] = W"
   ]
  },
  {
   "cell_type": "markdown",
   "metadata": {},
   "source": [
    "Verify odds ratio values between W and Z."
   ]
  },
  {
   "cell_type": "code",
   "execution_count": 118,
   "metadata": {},
   "outputs": [
    {
     "name": "stdout",
     "output_type": "stream",
     "text": [
      "odds ratio, nominal: 8.279956327410884\n",
      "odds ratio, condition C: 5.319729447063364\n",
      "odds ratio, condition C and U: 1.0549072774912687\n"
     ]
    }
   ],
   "source": [
    "print(\"odds ratio, nominal:\", odds_ratio(\"W\", \"Z\", [], DInference))\n",
    "print(\"odds ratio, condition C:\", odds_ratio(\"W\", \"Z\", [\"C\"], DInference))\n",
    "print(\"odds ratio, condition C and U:\", odds_ratio(\"W\", \"Z\", [\"C\", \"U\"], DInference))"
   ]
  },
  {
   "cell_type": "markdown",
   "metadata": {},
   "source": [
    "Proceed with the causal inference pipeline as normal."
   ]
  },
  {
   "cell_type": "code",
   "execution_count": 119,
   "metadata": {},
   "outputs": [
    {
     "name": "stdout",
     "output_type": "stream",
     "text": [
      "1.3253168895406944\n",
      "(1.2823120113582227, 1.3642163865960601)\n"
     ]
    }
   ],
   "source": [
    "print(proximal_find_ace(\"A\", \"Y\", \"W\", \"Z\", [\"C\"], DInference))\n",
    "print(compute_confidence_intervals(\"A\", \"Y\", \"W\", \"Z\", [\"C\"], DInference))"
   ]
  },
  {
   "cell_type": "markdown",
   "metadata": {},
   "source": [
    "As expected, using the same model to generate Z and W creates proxies that are valid for proximal causal inference."
   ]
  },
  {
   "cell_type": "markdown",
   "metadata": {},
   "source": [
    "## Part 2\n",
    "\n",
    "Use the zero-shot predictor to generate a proxy W and a simple heuristic based predictor to generate the proxy Z. Then, proceed with proximal causal inference as normal."
   ]
  },
  {
   "cell_type": "code",
   "execution_count": 90,
   "metadata": {},
   "outputs": [],
   "source": [
    "DInference = generate_data()\n",
    "\n",
    "# create the first realization of the covariates to generate W\n",
    "realization1 = pd.DataFrame()\n",
    "realization1['X1'] = DInference['X11']\n",
    "realization1['X2'] = DInference['X21']\n",
    "realization1['X3'] = DInference['X31']\n",
    "realization1['X4'] = DInference['X41']\n",
    "\n",
    "W = binary_predictions(zero_shot_model.predict(realization1))\n",
    "\n",
    "# use a simple heuristic for the second realization of the covariates to generate the proxy Z\n",
    "# (this heuristic attains roughly accuracy 0.84)\n",
    "Z = []\n",
    "for i in range(size):\n",
    "    if DInference['X12'][i] > 1.1:\n",
    "        Z.append(1)\n",
    "    else:\n",
    "        Z.append(0)\n",
    "\n",
    "DInference['W'] = W\n",
    "DInference['Z'] = Z"
   ]
  },
  {
   "cell_type": "markdown",
   "metadata": {},
   "source": [
    "Verify odds ratio values between W and Z."
   ]
  },
  {
   "cell_type": "code",
   "execution_count": 91,
   "metadata": {},
   "outputs": [
    {
     "name": "stdout",
     "output_type": "stream",
     "text": [
      "odds ratio, nominal: 8.594905139132562\n",
      "odds ratio, condition C: 5.497141603563897\n",
      "odds ratio, condition C and U: 0.9969988196709616\n"
     ]
    }
   ],
   "source": [
    "print(\"odds ratio, nominal:\", odds_ratio(\"W\", \"Z\", [], DInference))\n",
    "print(\"odds ratio, condition C:\", odds_ratio(\"W\", \"Z\", [\"C\"], DInference))\n",
    "print(\"odds ratio, condition C and U:\", odds_ratio(\"W\", \"Z\", [\"C\", \"U\"], DInference))"
   ]
  },
  {
   "cell_type": "markdown",
   "metadata": {},
   "source": [
    "Proceed with proximal causal inference pipeline."
   ]
  },
  {
   "cell_type": "code",
   "execution_count": 92,
   "metadata": {},
   "outputs": [
    {
     "name": "stdout",
     "output_type": "stream",
     "text": [
      "1.319573480866463\n",
      "(1.2805440188008288, 1.3654614149119406)\n"
     ]
    }
   ],
   "source": [
    "print(proximal_find_ace(\"A\", \"Y\", \"W\", \"Z\", [\"C\"], DInference))\n",
    "print(compute_confidence_intervals(\"A\", \"Y\", \"W\", \"Z\", [\"C\"], DInference))"
   ]
  }
 ],
 "metadata": {
  "kernelspec": {
   "display_name": "Python 3",
   "language": "python",
   "name": "python3"
  },
  "language_info": {
   "codemirror_mode": {
    "name": "ipython",
    "version": 3
   },
   "file_extension": ".py",
   "mimetype": "text/x-python",
   "name": "python",
   "nbconvert_exporter": "python",
   "pygments_lexer": "ipython3",
   "version": "3.10.11"
  }
 },
 "nbformat": 4,
 "nbformat_minor": 2
}
