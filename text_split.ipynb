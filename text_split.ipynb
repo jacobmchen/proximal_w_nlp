{
 "cells": [
  {
   "attachments": {},
   "cell_type": "markdown",
   "metadata": {},
   "source": [
    "# Code for splitting the clinician's notes in half using different methods."
   ]
  },
  {
   "cell_type": "code",
   "execution_count": 1,
   "metadata": {},
   "outputs": [],
   "source": [
    "import numpy as np\n",
    "import pandas as pd"
   ]
  },
  {
   "attachments": {},
   "cell_type": "markdown",
   "metadata": {},
   "source": [
    "### Find the median of the note and cut it in half based on where the middle of the string is."
   ]
  },
  {
   "cell_type": "code",
   "execution_count": 2,
   "metadata": {},
   "outputs": [
    {
     "name": "stdout",
     "output_type": "stream",
     "text": [
      "       index  patient_id  afib  \\\n",
      "0          0         109     0   \n",
      "1          2         113     0   \n",
      "2          3         114     0   \n",
      "3          4         115     0   \n",
      "4          6         117     0   \n",
      "...      ...         ...   ...   \n",
      "29446  46515       97164     0   \n",
      "29447  46516       97484     0   \n",
      "29448  46517       97488     1   \n",
      "29449  46518       97492     0   \n",
      "29450  46519       97497     1   \n",
      "\n",
      "                                                   notes  age  \n",
      "0      PATIENT/TEST INFORMATION: Indication: Code. As...   25  \n",
      "1      Sinus rhythm, rate 93. Non-specific ST-T wave ...   35  \n",
      "2      Normal sinus rhythm, rate 96 Right bundle bran...   48  \n",
      "3      PATIENT/TEST INFORMATION: Indication: Left ven...   75  \n",
      "4      PATIENT/TEST INFORMATION: Indication: Murmur. ...   50  \n",
      "...                                                  ...  ...  \n",
      "29446  PATIENT/TEST INFORMATION: Indication: Aortic v...   83  \n",
      "29447  Sinus bradycardia with non-diagnostic repolari...   79  \n",
      "29448  PATIENT/TEST INFORMATION: Indication: Stroke  ...   67  \n",
      "29449  PATIENT/TEST INFORMATION: Indication: Cerebrov...   32  \n",
      "29450  PATIENT/TEST INFORMATION: Indication: Left ven...   58  \n",
      "\n",
      "[29451 rows x 5 columns]\n"
     ]
    }
   ],
   "source": [
    "data = pd.read_csv('processed_afib_data.csv')\n",
    "\n",
    "print(data)"
   ]
  },
  {
   "cell_type": "code",
   "execution_count": 5,
   "metadata": {},
   "outputs": [],
   "source": [
    "# initialize arrays for storing the spliced strings\n",
    "half1 = []\n",
    "half2 = []\n",
    "\n",
    "for index, row in data.iterrows():\n",
    "    text = row['notes']\n",
    "\n",
    "    text_length = len(text)\n",
    "    median = text_length // 2\n",
    "\n",
    "    first_half = text[0:median]\n",
    "    second_half = text[median:text_length]\n",
    "    \n",
    "    half1.append(first_half)\n",
    "    half2.append(second_half)"
   ]
  },
  {
   "cell_type": "code",
   "execution_count": 6,
   "metadata": {},
   "outputs": [
    {
     "name": "stdout",
     "output_type": "stream",
     "text": [
      "       index  patient_id  afib  \\\n",
      "0          0         109     0   \n",
      "1          2         113     0   \n",
      "2          3         114     0   \n",
      "3          4         115     0   \n",
      "4          6         117     0   \n",
      "...      ...         ...   ...   \n",
      "29446  46515       97164     0   \n",
      "29447  46516       97484     0   \n",
      "29448  46517       97488     1   \n",
      "29449  46518       97492     0   \n",
      "29450  46519       97497     1   \n",
      "\n",
      "                                                   notes  age  \\\n",
      "0      PATIENT/TEST INFORMATION: Indication: Code. As...   25   \n",
      "1      Sinus rhythm, rate 93. Non-specific ST-T wave ...   35   \n",
      "2      Normal sinus rhythm, rate 96 Right bundle bran...   48   \n",
      "3      PATIENT/TEST INFORMATION: Indication: Left ven...   75   \n",
      "4      PATIENT/TEST INFORMATION: Indication: Murmur. ...   50   \n",
      "...                                                  ...  ...   \n",
      "29446  PATIENT/TEST INFORMATION: Indication: Aortic v...   83   \n",
      "29447  Sinus bradycardia with non-diagnostic repolari...   79   \n",
      "29448  PATIENT/TEST INFORMATION: Indication: Stroke  ...   67   \n",
      "29449  PATIENT/TEST INFORMATION: Indication: Cerebrov...   32   \n",
      "29450  PATIENT/TEST INFORMATION: Indication: Left ven...   58   \n",
      "\n",
      "                                             notes_half1  \\\n",
      "0      PATIENT/TEST INFORMATION: Indication: Code. As...   \n",
      "1      Sinus rhythm, rate 93. Non-specific ST-T wave ...   \n",
      "2      Normal sinus rhythm, rate 96 Right bundle bran...   \n",
      "3      PATIENT/TEST INFORMATION: Indication: Left ven...   \n",
      "4      PATIENT/TEST INFORMATION: Indication: Murmur. ...   \n",
      "...                                                  ...   \n",
      "29446  PATIENT/TEST INFORMATION: Indication: Aortic v...   \n",
      "29447  Sinus bradycardia with non-diagnostic repolari...   \n",
      "29448  PATIENT/TEST INFORMATION: Indication: Stroke  ...   \n",
      "29449  PATIENT/TEST INFORMATION: Indication: Cerebrov...   \n",
      "29450  PATIENT/TEST INFORMATION: Indication: Left ven...   \n",
      "\n",
      "                                             notes_half2  \n",
      "0      RICLE: RV hypertrophy.  PERICARDIUM: Small per...  \n",
      "1      ities. No previous tracing available for compa...  \n",
      "2      ge indeterminate Probable anterolateral subepi...  \n",
      "3       MR.  PERICARDIUM: No pericardial effusion.  G...  \n",
      "4      ned tricuspid valve leaflets. Moderate [2+] TR...  \n",
      "...                                                  ...  \n",
      "29446  Last Name (Titles) 2**] throughout the procedu...  \n",
      "29447  malities.  No previous tracing available for c...  \n",
      "29448  n. There is an anterior space which most likel...  \n",
      "29449  aflets with trivial MR.  TRICUSPID VALVE: Norm...  \n",
      "29450  CUSPID VALVE: Normal tricuspid valve leaflets ...  \n",
      "\n",
      "[29451 rows x 7 columns]\n"
     ]
    }
   ],
   "source": [
    "data['notes_half1'] = half1\n",
    "data['notes_half2'] = half2\n",
    "\n",
    "print(data)"
   ]
  },
  {
   "cell_type": "code",
   "execution_count": 7,
   "metadata": {},
   "outputs": [],
   "source": [
    "data.to_csv('processed_afib_data.csv', index=False)"
   ]
  }
 ],
 "metadata": {
  "kernelspec": {
   "display_name": "base",
   "language": "python",
   "name": "python3"
  },
  "language_info": {
   "codemirror_mode": {
    "name": "ipython",
    "version": 3
   },
   "file_extension": ".py",
   "mimetype": "text/x-python",
   "name": "python",
   "nbconvert_exporter": "python",
   "pygments_lexer": "ipython3",
   "version": "3.10.9"
  },
  "orig_nbformat": 4
 },
 "nbformat": 4,
 "nbformat_minor": 2
}
